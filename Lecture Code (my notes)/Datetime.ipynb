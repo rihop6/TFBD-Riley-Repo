{
 "cells": [
  {
   "cell_type": "code",
   "execution_count": 4,
   "metadata": {},
   "outputs": [
    {
     "name": "stdout",
     "output_type": "stream",
     "text": [
      "2024-06-17 13:11:49.885976\n",
      "2024-06-17\n",
      "<class 'datetime.date'>\n"
     ]
    }
   ],
   "source": [
    "# Datetime Module\n",
    "\n",
    "# This will help us create Datetime objects\n",
    "# Limited support for timezones\n",
    "import datetime\n",
    "\n",
    "# Formatting: Year, month, day, hour, minute, second, microsecond\n",
    "\n",
    "print(datetime.datetime.now())\n",
    "print(datetime.date.today())\n",
    "\n",
    "print(type(datetime.date.today()))"
   ]
  },
  {
   "cell_type": "markdown",
   "metadata": {},
   "source": [
    "https://www.w3schools.com/python/python_datetime.asp\n"
   ]
  },
  {
   "cell_type": "code",
   "execution_count": 16,
   "metadata": {},
   "outputs": [
    {
     "name": "stdout",
     "output_type": "stream",
     "text": [
      "Monday\n",
      "06-17-2024\n",
      "17-06-24\n"
     ]
    }
   ],
   "source": [
    "# Formatting at datetime object\n",
    "\n",
    "now = datetime.datetime.now()\n",
    "\n",
    "print(now.strftime(\"%A\"))\n",
    "print(now.strftime(\"%m-%d-%Y\"))\n",
    "print(now.strftime(\"%d-%m-%y\"))"
   ]
  },
  {
   "cell_type": "code",
   "execution_count": 17,
   "metadata": {},
   "outputs": [
    {
     "name": "stdout",
     "output_type": "stream",
     "text": [
      "2024-06-17 00:00:00\n"
     ]
    }
   ],
   "source": [
    "date = \"2024-06-17\"\n",
    "date_object = datetime.datetime.strptime(date, \"%Y-%m-%d\")\n",
    "print(date_object)"
   ]
  },
  {
   "cell_type": "code",
   "execution_count": 40,
   "metadata": {},
   "outputs": [
    {
     "name": "stdout",
     "output_type": "stream",
     "text": [
      "1718644918.4323947\n"
     ]
    }
   ],
   "source": [
    "# Time module\n",
    "# Unix Time\n",
    "# Number of seconds since January 1st, 1970 UTC\n",
    "\n",
    "import time\n",
    "\n",
    "print(time.time())"
   ]
  }
 ],
 "metadata": {
  "kernelspec": {
   "display_name": "Python 3",
   "language": "python",
   "name": "python3"
  },
  "language_info": {
   "codemirror_mode": {
    "name": "ipython",
    "version": 3
   },
   "file_extension": ".py",
   "mimetype": "text/x-python",
   "name": "python",
   "nbconvert_exporter": "python",
   "pygments_lexer": "ipython3",
   "version": "3.12.4"
  }
 },
 "nbformat": 4,
 "nbformat_minor": 2
}

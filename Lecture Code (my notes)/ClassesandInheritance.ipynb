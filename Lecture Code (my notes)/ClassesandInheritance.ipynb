{
 "cells": [
  {
   "cell_type": "code",
   "execution_count": 77,
   "metadata": {},
   "outputs": [],
   "source": [
    "# Classes\n",
    "\n",
    "# Everything in python is an object\n",
    "\n",
    "class Person:\n",
    "    population = 0\n",
    "    __ssn = \"123-456-789\"\n",
    "    def __init__(self, name, age, **kwargs):\n",
    "        self.name = name\n",
    "        self.age = age\n",
    "        Person.population += 1\n",
    "    \n",
    "    def __del__(self):\n",
    "        del self\n",
    "        Person.population -= 1\n",
    "\n",
    "    def __str__(self):\n",
    "        return f\"{self.name} ({self.age})\"\n",
    "    \n",
    "    # Not usually used- overwrites return value\n",
    "    # def __repr__(self):\n",
    "    #     return f\"{self.name} is {self.age} years old\"\n",
    "\n",
    "    # Define equivalence behavior - by default compares memory addresses\n",
    "    def __eq__(self, other):\n",
    "        if(self.name == other.name) and (self.age == other.age):\n",
    "            return True\n",
    "        else:\n",
    "            return False\n",
    "\n",
    "    def getAge(self):\n",
    "        return self.age\n",
    "    \n",
    "    def getSNN(self):\n",
    "        return self.__ssn\n",
    "\n",
    "    @classmethod\n",
    "    def get_population(cls):\n",
    "        return cls.population\n",
    "\n",
    "    @staticmethod\n",
    "    def isAdult(x):\n",
    "        return x >= 18"
   ]
  },
  {
   "cell_type": "code",
   "execution_count": 78,
   "metadata": {},
   "outputs": [
    {
     "data": {
      "text/plain": [
       "0"
      ]
     },
     "execution_count": 78,
     "metadata": {},
     "output_type": "execute_result"
    }
   ],
   "source": [
    "john = Person(\"John\", 23)\n",
    "john.getAge()\n",
    "john.isAdult(23)\n",
    "john.get_population()"
   ]
  },
  {
   "cell_type": "code",
   "execution_count": 79,
   "metadata": {},
   "outputs": [
    {
     "name": "stdout",
     "output_type": "stream",
     "text": [
      "-1\n"
     ]
    }
   ],
   "source": [
    "del john\n",
    "print(Person.get_population())"
   ]
  },
  {
   "cell_type": "code",
   "execution_count": 80,
   "metadata": {},
   "outputs": [],
   "source": [
    "john2 = Person('John 2', 13)"
   ]
  },
  {
   "cell_type": "code",
   "execution_count": 81,
   "metadata": {},
   "outputs": [
    {
     "data": {
      "text/plain": [
       "-1"
      ]
     },
     "execution_count": 81,
     "metadata": {},
     "output_type": "execute_result"
    }
   ],
   "source": [
    "Person.get_population()"
   ]
  },
  {
   "cell_type": "code",
   "execution_count": 85,
   "metadata": {},
   "outputs": [
    {
     "name": "stdout",
     "output_type": "stream",
     "text": [
      "John (23)\n",
      "123-456-789\n"
     ]
    }
   ],
   "source": [
    "print(john2)\n",
    "john2"
   ]
  },
  {
   "cell_type": "code",
   "execution_count": 83,
   "metadata": {},
   "outputs": [
    {
     "name": "stdout",
     "output_type": "stream",
     "text": [
      "True\n"
     ]
    }
   ],
   "source": [
    "# Still false\n",
    "john = Person(\"John\", 23)\n",
    "john2 = Person(\"John\", 23)\n",
    "print(john == john2)"
   ]
  },
  {
   "cell_type": "code",
   "execution_count": 84,
   "metadata": {},
   "outputs": [
    {
     "ename": "TypeError",
     "evalue": "'>=' not supported between instances of 'Person' and 'int'",
     "output_type": "error",
     "traceback": [
      "\u001b[1;31m---------------------------------------------------------------------------\u001b[0m",
      "\u001b[1;31mTypeError\u001b[0m                                 Traceback (most recent call last)",
      "Cell \u001b[1;32mIn[84], line 2\u001b[0m\n\u001b[0;32m      1\u001b[0m \u001b[38;5;66;03m# Doesn't work\u001b[39;00m\n\u001b[1;32m----> 2\u001b[0m \u001b[38;5;28mprint\u001b[39m(\u001b[43mjohn\u001b[49m\u001b[43m \u001b[49m\u001b[38;5;241;43m>\u001b[39;49m\u001b[38;5;241;43m=\u001b[39;49m\u001b[43m \u001b[49m\u001b[38;5;241;43m1\u001b[39;49m)\n",
      "\u001b[1;31mTypeError\u001b[0m: '>=' not supported between instances of 'Person' and 'int'"
     ]
    }
   ],
   "source": [
    "# Doesn't work\n",
    "print(john >= 1)"
   ]
  },
  {
   "cell_type": "code",
   "execution_count": null,
   "metadata": {},
   "outputs": [],
   "source": [
    "# Python does not have true encapsulation\n",
    "class Circle:\n",
    "    _pi = 3.14 # Simulates protected\n",
    "    __pi = 3.14 # Simulates private\n",
    "    __random = 'Random variable'"
   ]
  },
  {
   "cell_type": "code",
   "execution_count": null,
   "metadata": {},
   "outputs": [
    {
     "ename": "AttributeError",
     "evalue": "type object 'Circle' has no attribute '__pi'",
     "output_type": "error",
     "traceback": [
      "\u001b[1;31m---------------------------------------------------------------------------\u001b[0m",
      "\u001b[1;31mAttributeError\u001b[0m                            Traceback (most recent call last)",
      "Cell \u001b[1;32mIn[74], line 1\u001b[0m\n\u001b[1;32m----> 1\u001b[0m \u001b[38;5;28mprint\u001b[39m(\u001b[43mCircle\u001b[49m\u001b[38;5;241;43m.\u001b[39;49m\u001b[43m__pi\u001b[49m)\n",
      "\u001b[1;31mAttributeError\u001b[0m: type object 'Circle' has no attribute '__pi'"
     ]
    }
   ],
   "source": [
    "print(Circle.__pi)"
   ]
  },
  {
   "cell_type": "code",
   "execution_count": null,
   "metadata": {},
   "outputs": [
    {
     "data": {
      "text/plain": [
       "3.14"
      ]
     },
     "execution_count": 75,
     "metadata": {},
     "output_type": "execute_result"
    }
   ],
   "source": [
    "# You can still \"break into\" private variables\n",
    "circle1 = Circle()\n",
    "circle1._Circle__pi\n",
    "circle1._Circle__random"
   ]
  }
 ],
 "metadata": {
  "kernelspec": {
   "display_name": ".venv",
   "language": "python",
   "name": "python3"
  },
  "language_info": {
   "codemirror_mode": {
    "name": "ipython",
    "version": 3
   },
   "file_extension": ".py",
   "mimetype": "text/x-python",
   "name": "python",
   "nbconvert_exporter": "python",
   "pygments_lexer": "ipython3",
   "version": "3.12.4"
  }
 },
 "nbformat": 4,
 "nbformat_minor": 2
}

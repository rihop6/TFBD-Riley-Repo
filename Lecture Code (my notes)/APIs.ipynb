{
 "cells": [
  {
   "cell_type": "markdown",
   "metadata": {},
   "source": [
    "# Application Programming Interface\n",
    "- How Software talks to Software\n",
    "- Endpoints = Methods\n",
    "- We will discuss WebAPIs\n",
    "    - What do we need:\n",
    "        - API Key/Authentication\n",
    "        - URL\n",
    "            - Base\n",
    "            - Endpoint\n",
    "        - Request Header: Metadata associated with our request\n",
    "        - Parameters: configuration for API call\n",
    "        - Payload/Data: Response that we get back"
   ]
  },
  {
   "cell_type": "code",
   "execution_count": 3,
   "metadata": {},
   "outputs": [],
   "source": [
    "# Web APIs\n",
    "# Processing text = JSON    \n",
    "# Request Header: application/JSON, plain/text, image/jpeg (MIME Types)\n",
    "\n",
    "import json\n",
    "\n",
    "# Two types of JSON representations\n",
    "# JSON Data run in my program = String\n",
    "# JSON Data pushed through API = Binary\n",
    "\n",
    "employees = [\n",
    "    {\n",
    "        'name': 'Digs',\n",
    "        'Player1': {\n",
    "            'name': 'Sam',\n",
    "            'position': 'libero',\n",
    "            'number': 19\n",
    "        },\n",
    "    },\n",
    "    {\n",
    "        'name': 'John',\n",
    "        'company': 'Skillstorm'\n",
    "    }\n",
    "]\n",
    "\n",
    "out_file = \"./Assets/Data/output.json\"\n",
    "\n",
    "with open(out_file, 'w') as f:\n",
    "    json.dump(employees, f, indent=4)"
   ]
  },
  {
   "cell_type": "code",
   "execution_count": 4,
   "metadata": {},
   "outputs": [
    {
     "name": "stdout",
     "output_type": "stream",
     "text": [
      "<class 'str'>\n",
      "<class 'list'>\n",
      "[{\"name\": \"Digs\", \"Player1\": {\"name\": \"Sam\", \"position\": \"libero\", \"number\": 19}}, {\"name\": \"John\", \"company\": \"Skillstorm\"}]\n"
     ]
    }
   ],
   "source": [
    "json_text = json.dumps(employees)\n",
    "print(type(json_text))\n",
    "print(type(employees))\n",
    "print(json_text)"
   ]
  },
  {
   "cell_type": "code",
   "execution_count": 5,
   "metadata": {},
   "outputs": [
    {
     "name": "stdout",
     "output_type": "stream",
     "text": [
      "<class 'list'>\n",
      "[{'name': 'Digs', 'Player1': {'name': 'Sam', 'position': 'libero', 'number': 19}}, {'name': 'John', 'company': 'Skillstorm'}]\n"
     ]
    }
   ],
   "source": [
    "# To read JSON out of a file use .load()\n",
    "\n",
    "with open(out_file) as f:\n",
    "    data = json.load(f)\n",
    "\n",
    "print(type(data))\n",
    "print(data)"
   ]
  },
  {
   "cell_type": "code",
   "execution_count": 6,
   "metadata": {},
   "outputs": [
    {
     "name": "stdout",
     "output_type": "stream",
     "text": [
      "<class 'list'>\n",
      "[{'name': 'Digs', 'Player1': {'name': 'Sam', 'position': 'libero', 'number': 19}}, {'name': 'John', 'company': 'Skillstorm'}]\n"
     ]
    }
   ],
   "source": [
    "# If we have a String of JSON we can use .loads()\n",
    "json_dict = json.loads(json_text)\n",
    "print(type(json_dict))\n",
    "print(json_dict)"
   ]
  },
  {
   "cell_type": "markdown",
   "metadata": {},
   "source": [
    "# Web APIs\n",
    "\n",
    "## RESTful API\n",
    "- Simple API that will send full objects\n",
    "- Majority of Web APIs are RESTful\n",
    "\n",
    "## SOAP API\n",
    "- Simple Object Access Protocol\n",
    "- Passes parameters so that objects can be built in the application's native code\n",
    "- wsdl schema file\n",
    "- Popular in heavily regulated industries - healthcare, military, government\n",
    "\n",
    "## XML - RPC (Remote Procedure Call: Execute code directly on another machine)\n",
    "- Generally not public facing\n",
    "- Apache Spark uses this to facilitate communication between nodes\n",
    "\n",
    "## Websocket\n",
    "- Full two-way communication structure\n",
    "- Push system instead of pulling\n",
    "- Realtime communication\n",
    "\n",
    "## API Request\n",
    "\n",
    "## URL\n",
    "- Base\n",
    "- Endpoint\n",
    "- `https://api.example.com/version1/endpoint`\n",
    "\n",
    "## Methods\n",
    "- GET - Retrieval\n",
    "- POST - Update information\n",
    "- PUT - Update the existing API Resource\n",
    "- DELETE - Deletes a resource\n",
    "- requests library to use these methods (requests.get(), requests.post())\n",
    "\n",
    "## Parameters\n",
    "- Configuration settings\n",
    "\n",
    "## Body/Payload/Data\n",
    "- Actual information that we requested\n",
    "\n",
    "## Authentication Methods\n",
    "- No authentication\n",
    "- Username/Password\n",
    "- API Key\n",
    "    - Encryption Standard\n",
    "    - Issued by the API Owner\n",
    "    - One per person\n",
    "- OAUTH\n",
    "    - 2.x\n",
    "    - Typically used for App-App communication\n",
    "    - Token Refresh - Set amount of time the OAuth token will cycle"
   ]
  },
  {
   "cell_type": "markdown",
   "metadata": {},
   "source": [
    "# NYTimes API Example\n",
    "https://developer.nytimes.com/my-apps"
   ]
  },
  {
   "cell_type": "code",
   "execution_count": 7,
   "metadata": {},
   "outputs": [
    {
     "ename": "KeyError",
     "evalue": "'nytimes_api_key'",
     "output_type": "error",
     "traceback": [
      "\u001b[1;31m---------------------------------------------------------------------------\u001b[0m",
      "\u001b[1;31mKeyError\u001b[0m                                  Traceback (most recent call last)",
      "Cell \u001b[1;32mIn[7], line 11\u001b[0m\n\u001b[0;32m      7\u001b[0m hardcover_endpoint \u001b[38;5;241m=\u001b[39m \u001b[38;5;124m\"\u001b[39m\u001b[38;5;124m/lists/current/hardcover-fiction.json\u001b[39m\u001b[38;5;124m\"\u001b[39m\n\u001b[0;32m      9\u001b[0m books_url \u001b[38;5;241m=\u001b[39m base_url \u001b[38;5;241m+\u001b[39m books_api \u001b[38;5;241m+\u001b[39m hardcover_endpoint\n\u001b[1;32m---> 11\u001b[0m api_key \u001b[38;5;241m=\u001b[39m \u001b[43mos\u001b[49m\u001b[38;5;241;43m.\u001b[39;49m\u001b[43menviron\u001b[49m\u001b[43m[\u001b[49m\u001b[38;5;124;43m'\u001b[39;49m\u001b[38;5;124;43mnytimes_api_key\u001b[39;49m\u001b[38;5;124;43m'\u001b[39;49m\u001b[43m]\u001b[49m\n\u001b[0;32m     13\u001b[0m \u001b[38;5;66;03m# Check the doc for what parameters you need\u001b[39;00m\n\u001b[0;32m     14\u001b[0m params \u001b[38;5;241m=\u001b[39m {\u001b[38;5;124m'\u001b[39m\u001b[38;5;124mapi-key\u001b[39m\u001b[38;5;124m'\u001b[39m: api_key}\n",
      "File \u001b[1;32m<frozen os>:714\u001b[0m, in \u001b[0;36m__getitem__\u001b[1;34m(self, key)\u001b[0m\n",
      "\u001b[1;31mKeyError\u001b[0m: 'nytimes_api_key'"
     ]
    }
   ],
   "source": [
    "import requests\n",
    "import os\n",
    "\n",
    "# When building a URL, be consistent with your slashes\n",
    "base_url = \"https://api.nytimes.com\"\n",
    "books_api = \"/svc/books/v3\"\n",
    "hardcover_endpoint = \"/lists/current/hardcover-fiction.json\"\n",
    "\n",
    "books_url = base_url + books_api + hardcover_endpoint\n",
    "\n",
    "api_key = os.environ['nytimes_api_key']\n",
    "\n",
    "# Check the doc for what parameters you need\n",
    "params = {'api-key': api_key}\n",
    "\n",
    "response = requests.get(books_url, params=params)\n",
    "\n",
    "# Response codes:\n",
    "# 200 = Success\n",
    "# 400 = Client Side Error (404)\n",
    "# 500 = Server Side Error\n",
    "response"
   ]
  },
  {
   "cell_type": "code",
   "execution_count": null,
   "metadata": {},
   "outputs": [
    {
     "ename": "NameError",
     "evalue": "name 'response' is not defined",
     "output_type": "error",
     "traceback": [
      "\u001b[1;31m---------------------------------------------------------------------------\u001b[0m",
      "\u001b[1;31mNameError\u001b[0m                                 Traceback (most recent call last)",
      "Cell \u001b[1;32mIn[2], line 1\u001b[0m\n\u001b[1;32m----> 1\u001b[0m data \u001b[38;5;241m=\u001b[39m \u001b[43mresponse\u001b[49m\u001b[38;5;241m.\u001b[39mjson()\n\u001b[0;32m      2\u001b[0m data[\u001b[38;5;124m'\u001b[39m\u001b[38;5;124mresults\u001b[39m\u001b[38;5;124m'\u001b[39m][\u001b[38;5;124m'\u001b[39m\u001b[38;5;124mbooks\u001b[39m\u001b[38;5;124m'\u001b[39m]\n",
      "\u001b[1;31mNameError\u001b[0m: name 'response' is not defined"
     ]
    }
   ],
   "source": [
    "data = response.json()\n",
    "data['results']['books']"
   ]
  },
  {
   "cell_type": "code",
   "execution_count": null,
   "metadata": {},
   "outputs": [
    {
     "name": "stdout",
     "output_type": "stream",
     "text": [
      "['SWAN SONG', 'ERUPTION', 'THE WOMEN', 'CAMINO GHOSTS', 'YOU LIKE IT DARKER', 'FUNNY STORY', 'FOURTH WING', 'IRON FLAME', 'THE WREN IN THE HOLLY LIBRARY', 'THE ROM-COMMERS', 'JAMES', 'THE ASHES & THE STAR-CURSED KING', 'HORROR MOVIE', 'A CALAMITY OF SOULS', 'CLETE']\n"
     ]
    }
   ],
   "source": [
    "book_titles = [books['title'] for books in data['results']['books']]\n",
    "print(book_titles)"
   ]
  },
  {
   "cell_type": "code",
   "execution_count": null,
   "metadata": {},
   "outputs": [
    {
     "data": {
      "text/html": [
       "<div>\n",
       "<style scoped>\n",
       "    .dataframe tbody tr th:only-of-type {\n",
       "        vertical-align: middle;\n",
       "    }\n",
       "\n",
       "    .dataframe tbody tr th {\n",
       "        vertical-align: top;\n",
       "    }\n",
       "\n",
       "    .dataframe thead th {\n",
       "        text-align: right;\n",
       "    }\n",
       "</style>\n",
       "<table border=\"1\" class=\"dataframe\">\n",
       "  <thead>\n",
       "    <tr style=\"text-align: right;\">\n",
       "      <th></th>\n",
       "      <th>rank</th>\n",
       "      <th>rank_last_week</th>\n",
       "      <th>weeks_on_list</th>\n",
       "      <th>asterisk</th>\n",
       "      <th>dagger</th>\n",
       "      <th>primary_isbn10</th>\n",
       "      <th>primary_isbn13</th>\n",
       "      <th>publisher</th>\n",
       "      <th>description</th>\n",
       "      <th>price</th>\n",
       "      <th>...</th>\n",
       "      <th>book_image_height</th>\n",
       "      <th>amazon_product_url</th>\n",
       "      <th>age_group</th>\n",
       "      <th>book_review_link</th>\n",
       "      <th>first_chapter_link</th>\n",
       "      <th>sunday_review_link</th>\n",
       "      <th>article_chapter_link</th>\n",
       "      <th>isbns</th>\n",
       "      <th>buy_links</th>\n",
       "      <th>book_uri</th>\n",
       "    </tr>\n",
       "  </thead>\n",
       "  <tbody>\n",
       "    <tr>\n",
       "      <th>0</th>\n",
       "      <td>1</td>\n",
       "      <td>0</td>\n",
       "      <td>1</td>\n",
       "      <td>0</td>\n",
       "      <td>0</td>\n",
       "      <td>0316258873</td>\n",
       "      <td>9780316258876</td>\n",
       "      <td>Little, Brown</td>\n",
       "      <td>Nantucket residents are alarmed when a home, r...</td>\n",
       "      <td>0.00</td>\n",
       "      <td>...</td>\n",
       "      <td>500</td>\n",
       "      <td>https://www.amazon.com/dp/0316258873?tag=thene...</td>\n",
       "      <td></td>\n",
       "      <td></td>\n",
       "      <td></td>\n",
       "      <td></td>\n",
       "      <td></td>\n",
       "      <td>[{'isbn10': '0316258873', 'isbn13': '978031625...</td>\n",
       "      <td>[{'name': 'Amazon', 'url': 'https://www.amazon...</td>\n",
       "      <td>nyt://book/4e9c52e4-986b-5231-999d-8a2d00eb1cb0</td>\n",
       "    </tr>\n",
       "    <tr>\n",
       "      <th>1</th>\n",
       "      <td>2</td>\n",
       "      <td>1</td>\n",
       "      <td>2</td>\n",
       "      <td>0</td>\n",
       "      <td>0</td>\n",
       "      <td>0316565075</td>\n",
       "      <td>9780316565073</td>\n",
       "      <td>Little, Brown</td>\n",
       "      <td>The Big Island of Hawaii comes under threat by...</td>\n",
       "      <td>0.00</td>\n",
       "      <td>...</td>\n",
       "      <td>500</td>\n",
       "      <td>https://www.amazon.com/dp/0316565075?tag=thene...</td>\n",
       "      <td></td>\n",
       "      <td></td>\n",
       "      <td></td>\n",
       "      <td></td>\n",
       "      <td></td>\n",
       "      <td>[{'isbn10': '0316565075', 'isbn13': '978031656...</td>\n",
       "      <td>[{'name': 'Amazon', 'url': 'https://www.amazon...</td>\n",
       "      <td>nyt://book/385356f7-39ed-5465-849f-cac99a8bf38f</td>\n",
       "    </tr>\n",
       "    <tr>\n",
       "      <th>2</th>\n",
       "      <td>3</td>\n",
       "      <td>3</td>\n",
       "      <td>19</td>\n",
       "      <td>0</td>\n",
       "      <td>0</td>\n",
       "      <td>1250178630</td>\n",
       "      <td>9781250178633</td>\n",
       "      <td>St. Martin's</td>\n",
       "      <td>In 1965, a nursing student follows her brother...</td>\n",
       "      <td>0.00</td>\n",
       "      <td>...</td>\n",
       "      <td>500</td>\n",
       "      <td>https://www.amazon.com/dp/1250178630?tag=thene...</td>\n",
       "      <td></td>\n",
       "      <td></td>\n",
       "      <td></td>\n",
       "      <td></td>\n",
       "      <td></td>\n",
       "      <td>[{'isbn10': '1250178630', 'isbn13': '978125017...</td>\n",
       "      <td>[{'name': 'Amazon', 'url': 'https://www.amazon...</td>\n",
       "      <td>nyt://book/9ce735af-71cf-5ff3-a367-43ee07e3fdd7</td>\n",
       "    </tr>\n",
       "    <tr>\n",
       "      <th>3</th>\n",
       "      <td>4</td>\n",
       "      <td>2</td>\n",
       "      <td>3</td>\n",
       "      <td>0</td>\n",
       "      <td>0</td>\n",
       "      <td>0385545991</td>\n",
       "      <td>9780385545990</td>\n",
       "      <td>Doubleday</td>\n",
       "      <td>The third book in the Camino series. The last ...</td>\n",
       "      <td>0.00</td>\n",
       "      <td>...</td>\n",
       "      <td>500</td>\n",
       "      <td>https://www.amazon.com/dp/0385545991?tag=thene...</td>\n",
       "      <td></td>\n",
       "      <td></td>\n",
       "      <td></td>\n",
       "      <td></td>\n",
       "      <td></td>\n",
       "      <td>[{'isbn10': '0385545991', 'isbn13': '978038554...</td>\n",
       "      <td>[{'name': 'Amazon', 'url': 'https://www.amazon...</td>\n",
       "      <td>nyt://book/d5a27515-6af1-5044-8c99-ff484292947a</td>\n",
       "    </tr>\n",
       "    <tr>\n",
       "      <th>4</th>\n",
       "      <td>5</td>\n",
       "      <td>4</td>\n",
       "      <td>4</td>\n",
       "      <td>0</td>\n",
       "      <td>0</td>\n",
       "      <td>1668037718</td>\n",
       "      <td>9781668037713</td>\n",
       "      <td>Scribner</td>\n",
       "      <td>A dozen short stories that explore darkness in...</td>\n",
       "      <td>0.00</td>\n",
       "      <td>...</td>\n",
       "      <td>500</td>\n",
       "      <td>https://www.amazon.com/dp/1668037718?tag=thene...</td>\n",
       "      <td></td>\n",
       "      <td></td>\n",
       "      <td></td>\n",
       "      <td></td>\n",
       "      <td></td>\n",
       "      <td>[{'isbn10': '1668037718', 'isbn13': '978166803...</td>\n",
       "      <td>[{'name': 'Amazon', 'url': 'https://www.amazon...</td>\n",
       "      <td>nyt://book/84fc5c9e-1607-56f8-afcd-0ee37bfc8237</td>\n",
       "    </tr>\n",
       "  </tbody>\n",
       "</table>\n",
       "<p>5 rows × 26 columns</p>\n",
       "</div>"
      ],
      "text/plain": [
       "   rank  rank_last_week  weeks_on_list  asterisk  dagger primary_isbn10  \\\n",
       "0     1               0              1         0       0     0316258873   \n",
       "1     2               1              2         0       0     0316565075   \n",
       "2     3               3             19         0       0     1250178630   \n",
       "3     4               2              3         0       0     0385545991   \n",
       "4     5               4              4         0       0     1668037718   \n",
       "\n",
       "  primary_isbn13      publisher  \\\n",
       "0  9780316258876  Little, Brown   \n",
       "1  9780316565073  Little, Brown   \n",
       "2  9781250178633   St. Martin's   \n",
       "3  9780385545990      Doubleday   \n",
       "4  9781668037713       Scribner   \n",
       "\n",
       "                                         description price  ...  \\\n",
       "0  Nantucket residents are alarmed when a home, r...  0.00  ...   \n",
       "1  The Big Island of Hawaii comes under threat by...  0.00  ...   \n",
       "2  In 1965, a nursing student follows her brother...  0.00  ...   \n",
       "3  The third book in the Camino series. The last ...  0.00  ...   \n",
       "4  A dozen short stories that explore darkness in...  0.00  ...   \n",
       "\n",
       "  book_image_height                                 amazon_product_url  \\\n",
       "0               500  https://www.amazon.com/dp/0316258873?tag=thene...   \n",
       "1               500  https://www.amazon.com/dp/0316565075?tag=thene...   \n",
       "2               500  https://www.amazon.com/dp/1250178630?tag=thene...   \n",
       "3               500  https://www.amazon.com/dp/0385545991?tag=thene...   \n",
       "4               500  https://www.amazon.com/dp/1668037718?tag=thene...   \n",
       "\n",
       "  age_group book_review_link first_chapter_link  sunday_review_link  \\\n",
       "0                                                                     \n",
       "1                                                                     \n",
       "2                                                                     \n",
       "3                                                                     \n",
       "4                                                                     \n",
       "\n",
       "   article_chapter_link                                              isbns  \\\n",
       "0                        [{'isbn10': '0316258873', 'isbn13': '978031625...   \n",
       "1                        [{'isbn10': '0316565075', 'isbn13': '978031656...   \n",
       "2                        [{'isbn10': '1250178630', 'isbn13': '978125017...   \n",
       "3                        [{'isbn10': '0385545991', 'isbn13': '978038554...   \n",
       "4                        [{'isbn10': '1668037718', 'isbn13': '978166803...   \n",
       "\n",
       "                                           buy_links  \\\n",
       "0  [{'name': 'Amazon', 'url': 'https://www.amazon...   \n",
       "1  [{'name': 'Amazon', 'url': 'https://www.amazon...   \n",
       "2  [{'name': 'Amazon', 'url': 'https://www.amazon...   \n",
       "3  [{'name': 'Amazon', 'url': 'https://www.amazon...   \n",
       "4  [{'name': 'Amazon', 'url': 'https://www.amazon...   \n",
       "\n",
       "                                          book_uri  \n",
       "0  nyt://book/4e9c52e4-986b-5231-999d-8a2d00eb1cb0  \n",
       "1  nyt://book/385356f7-39ed-5465-849f-cac99a8bf38f  \n",
       "2  nyt://book/9ce735af-71cf-5ff3-a367-43ee07e3fdd7  \n",
       "3  nyt://book/d5a27515-6af1-5044-8c99-ff484292947a  \n",
       "4  nyt://book/84fc5c9e-1607-56f8-afcd-0ee37bfc8237  \n",
       "\n",
       "[5 rows x 26 columns]"
      ]
     },
     "execution_count": 21,
     "metadata": {},
     "output_type": "execute_result"
    }
   ],
   "source": [
    "import pandas as pd\n",
    "\n",
    "books = data['results']['books']\n",
    "df = pd.json_normalize(books)\n",
    "df.head()"
   ]
  },
  {
   "cell_type": "code",
   "execution_count": null,
   "metadata": {},
   "outputs": [
    {
     "data": {
      "text/plain": [
       "{'Date': 'Fri, 21 Jun 2024 14:26:26 GMT', 'Content-Type': 'application/json; charset=UTF-8', 'Transfer-Encoding': 'chunked', 'Connection': 'keep-alive', 'Server': 'Apache/2.4.38 (Debian)', 'X-Powered-By': 'PHP/7.4.13', 'Via': '1.1 google, 1.1 varnish', 'Content-Encoding': 'gzip', 'Accept-Ranges': 'bytes', 'Age': '26', 'X-Served-By': 'cache-iad-kjyo7100044-IAD', 'X-Cache': 'HIT', 'X-Cache-Hits': '1', 'X-Timer': 'S1718979986.242095,VS0,VE1', 'Vary': 'Accept-Encoding', 'x-nyt-mktg-group': 'group1', 'Access-Control-Allow-Origin': '*', 'Access-Control-Allow-Headers': 'Accept, Content-Type, X-Forwarded-For, X-Prototype-Version, X-Requested-With', 'Access-Control-Expose-Headers': 'Content-Length, X-JSON', 'Access-Control-Allow-Methods': 'GET, OPTIONS', 'Strict-Transport-Security': 'max-age=63072000; preload; includeSubdomains'}"
      ]
     },
     "execution_count": 22,
     "metadata": {},
     "output_type": "execute_result"
    }
   ],
   "source": [
    "# We can check the metadata details of our response\n",
    "response.headers"
   ]
  },
  {
   "cell_type": "code",
   "execution_count": null,
   "metadata": {},
   "outputs": [
    {
     "data": {
      "text/plain": [
       "'UTF-8'"
      ]
     },
     "execution_count": 23,
     "metadata": {},
     "output_type": "execute_result"
    }
   ],
   "source": [
    "response.encoding"
   ]
  },
  {
   "cell_type": "code",
   "execution_count": null,
   "metadata": {},
   "outputs": [
    {
     "data": {
      "text/plain": [
       "200"
      ]
     },
     "execution_count": 24,
     "metadata": {},
     "output_type": "execute_result"
    }
   ],
   "source": [
    "response.status_code"
   ]
  },
  {
   "cell_type": "markdown",
   "metadata": {},
   "source": [
    "### Footnote- API Key Options"
   ]
  },
  {
   "cell_type": "code",
   "execution_count": null,
   "metadata": {},
   "outputs": [
    {
     "name": "stdout",
     "output_type": "stream",
     "text": [
      "RJvwsGFWsm5XEaybuiLD3tULTfyllCSq\n",
      "key here not safe\n",
      "RJvwsGFWsm5XEaybuiLD3tULTfyllCSq\n"
     ]
    }
   ],
   "source": [
    "api_key = ''\n",
    "# 3 options for protecting our data\n",
    "# Option 1: is creating a constants.py file\n",
    "from constants import api_key\n",
    "print(api_key)\n",
    "\n",
    "# Option 2: environment variables\n",
    "api_key = os.environ['API_KEY'] = \"key here not safe\"\n",
    "api_key = os.environ['API_KEY']\n",
    "print(api_key)\n",
    "\n",
    "# Option 3: .env file\n",
    "from dotenv import load_dotenv\n",
    "\n",
    "load_dotenv()\n",
    "api_key = os.environ['nytimes_api_key']\n",
    "print(api_key)"
   ]
  },
  {
   "cell_type": "code",
   "execution_count": null,
   "metadata": {},
   "outputs": [],
   "source": []
  }
 ],
 "metadata": {
  "kernelspec": {
   "display_name": ".venv",
   "language": "python",
   "name": "python3"
  },
  "language_info": {
   "codemirror_mode": {
    "name": "ipython",
    "version": 3
   },
   "file_extension": ".py",
   "mimetype": "text/x-python",
   "name": "python",
   "nbconvert_exporter": "python",
   "pygments_lexer": "ipython3",
   "version": "3.12.4"
  }
 },
 "nbformat": 4,
 "nbformat_minor": 2
}

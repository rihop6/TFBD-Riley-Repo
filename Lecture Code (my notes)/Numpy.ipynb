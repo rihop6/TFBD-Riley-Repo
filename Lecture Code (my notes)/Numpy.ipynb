{
 "cells": [
  {
   "cell_type": "code",
   "execution_count": 2,
   "metadata": {},
   "outputs": [],
   "source": [
    "# Numpy\n",
    "# Numpy is what is happening in the background of Pandas (data tool)\n",
    "# Numpy is built on C++\n",
    "# We could potentially do everything we are about to do ourselves\n",
    "# But that would be incredibly inefficient and take a lot of time"
   ]
  },
  {
   "cell_type": "code",
   "execution_count": 49,
   "metadata": {},
   "outputs": [],
   "source": [
    "# Numpy is a LOT more efficient than Python\n",
    "# ~50x - 100x faster\n",
    "# Arrays, C++ Arrays = Contiguous memory, optimized searches\n",
    "# Lists in python can contain multiple types, and are not \"Arrays\"\n",
    "# Numpy Arrays are all one data type, and it is stored in an n-dimensional array"
   ]
  },
  {
   "cell_type": "code",
   "execution_count": null,
   "metadata": {},
   "outputs": [],
   "source": [
    "# Usage:\n",
    "# np.array(list, dtype='') - creates a np array using list of type dtype\n",
    "# arr[0,1] - np indexing example\n",
    "# np.ndim - returns the dimension of the array\n",
    "# np.dtype - returns the array's data type\n",
    "# np.shape - returns the array's shape\n",
    "# np.reshape() - reshapes the array into the specified shape\n",
    "# np.nditer() - returns an iterable of the given array to avoid nested loops\n",
    "# np.concatenate((tuple of arrs), axis=) - concatenates arrs based on axis"
   ]
  },
  {
   "cell_type": "code",
   "execution_count": 38,
   "metadata": {},
   "outputs": [
    {
     "name": "stdout",
     "output_type": "stream",
     "text": [
      "1.26.2\n"
     ]
    }
   ],
   "source": [
    "# Let's start using it\n",
    "import numpy as np\n",
    "\n",
    "print(np.__version__)"
   ]
  },
  {
   "cell_type": "code",
   "execution_count": 41,
   "metadata": {},
   "outputs": [
    {
     "name": "stdout",
     "output_type": "stream",
     "text": [
      "[1, 2, 3, 4, 5]\n",
      "[1 2 3 4 5]\n"
     ]
    }
   ],
   "source": [
    "# Creating an array\n",
    "list = [1,2,3,4,5]\n",
    "arr = np.array(list)\n",
    "\n",
    "print(list)\n",
    "print(arr)"
   ]
  },
  {
   "cell_type": "code",
   "execution_count": 26,
   "metadata": {},
   "outputs": [
    {
     "name": "stdout",
     "output_type": "stream",
     "text": [
      "0 1 2 3\n"
     ]
    },
    {
     "data": {
      "text/plain": [
       "(array(42),\n",
       " array([1, 2, 3, 4, 5]),\n",
       " array([[ 1,  2,  3,  4,  5],\n",
       "        [ 6,  7,  8,  9, 10]]),\n",
       " array([[[ 1,  2,  3,  4,  5],\n",
       "         [ 6,  7,  8,  9, 10]],\n",
       " \n",
       "        [[11, 12, 13, 14, 15],\n",
       "         [11, 12, 13, 14, 15]]]))"
      ]
     },
     "execution_count": 26,
     "metadata": {},
     "output_type": "execute_result"
    }
   ],
   "source": [
    "# Dimensions - n-dimensional array\n",
    "\n",
    "# 0-3D arrays\n",
    "\n",
    "# 0D Array AKA a Scalar\n",
    "zero_arr = np.array(42)\n",
    "\n",
    "zero_arr\n",
    "\n",
    "#1D Array AKA a Array\n",
    "one_arr = np.array(list)\n",
    "\n",
    "one_arr\n",
    "\n",
    "# 2D Array AKA a Matrix\n",
    "list2 = [6,7,8,9,10]\n",
    "two_arr = np.array([list,list2])\n",
    "\n",
    "two_arr\n",
    "\n",
    "# 3D Array AKA a Tensor\n",
    "list3 = [11, 12, 13, 14, 15]\n",
    "three_arr = np.array((list,list2,list3))\n",
    "three_arr = np.array([[list,list2],[list3,list3]])\n",
    "\n",
    "three_arr\n",
    "\n",
    "print(zero_arr.ndim, one_arr.ndim, two_arr.ndim, three_arr.ndim)\n",
    "\n",
    "(zero_arr, one_arr, two_arr, three_arr)"
   ]
  },
  {
   "cell_type": "code",
   "execution_count": 31,
   "metadata": {},
   "outputs": [
    {
     "name": "stdout",
     "output_type": "stream",
     "text": [
      "2\n",
      "2\n",
      "8\n"
     ]
    },
    {
     "data": {
      "text/plain": [
       "array([[[ 1,  2,  3,  4,  5],\n",
       "        [ 6,  7,  8,  9, 10]],\n",
       "\n",
       "       [[11, 12, 13, 14, 15],\n",
       "        [11, 12, 13, 14, 15]]])"
      ]
     },
     "execution_count": 31,
     "metadata": {},
     "output_type": "execute_result"
    }
   ],
   "source": [
    "# Indexing into our nd arrays\n",
    "\n",
    "# Python indexing - Do not  do this\n",
    "print(two_arr[0][1])\n",
    "\n",
    "# Numpy indexing (much faster)\n",
    "print(two_arr[0,1])\n",
    "\n",
    "print(three_arr[0,1,2])\n",
    "three_arr"
   ]
  },
  {
   "cell_type": "code",
   "execution_count": 43,
   "metadata": {},
   "outputs": [
    {
     "name": "stdout",
     "output_type": "stream",
     "text": [
      "|S1\n",
      "|S1\n",
      "float32\n"
     ]
    },
    {
     "data": {
      "text/plain": [
       "array([[b'1', b'2', b'3', b'4', b'5']], dtype='|S1')"
      ]
     },
     "execution_count": 43,
     "metadata": {},
     "output_type": "execute_result"
    }
   ],
   "source": [
    "# Numpy arrays are a single data type\n",
    "\n",
    "# Numpy has its own data types\n",
    "\n",
    "# i - integers up to int64\n",
    "# b - boolean\n",
    "# u - unsigned ints\n",
    "# f - float - float128\n",
    "# c - complex\n",
    "# m - timedelta\n",
    "# M - datetime\n",
    "# O - object\n",
    "# S - string\n",
    "# U - unicode string\n",
    "# V - void type - fixed chunk of memory that is reserved\n",
    "\n",
    "print(arr.dtype)\n",
    "\n",
    "# Creating arr as a string\n",
    "arr = np.array([list], dtype='S')\n",
    "\n",
    "print(arr.dtype)\n",
    "\n",
    "# Casting array into a float\n",
    "new_arr = arr.astype('f')\n",
    "print(new_arr.dtype)\n",
    "\n",
    "arr"
   ]
  },
  {
   "cell_type": "code",
   "execution_count": 46,
   "metadata": {},
   "outputs": [
    {
     "name": "stdout",
     "output_type": "stream",
     "text": [
      "(1, 5)\n",
      "(2, 5)\n",
      "(2, 2, 5)\n"
     ]
    }
   ],
   "source": [
    "# Checking out matrix's shape\n",
    "\n",
    "print(arr.shape)\n",
    "print(two_arr.shape)\n",
    "print(three_arr.shape)"
   ]
  },
  {
   "cell_type": "code",
   "execution_count": 50,
   "metadata": {},
   "outputs": [
    {
     "name": "stdout",
     "output_type": "stream",
     "text": [
      "[ 1  2  3  4  5  6  7  8  9 10 11 12]\n",
      "[[ 1  2  3]\n",
      " [ 4  5  6]\n",
      " [ 7  8  9]\n",
      " [10 11 12]]\n"
     ]
    }
   ],
   "source": [
    "# Reshape arrays\n",
    "\n",
    "arr = np.array([1,2,3,4,5,6,7,8,9,10,11,12])\n",
    "print(arr)\n",
    "new_arr = arr.reshape(4, 3)\n",
    "print(new_arr)"
   ]
  },
  {
   "cell_type": "code",
   "execution_count": 53,
   "metadata": {},
   "outputs": [
    {
     "name": "stdout",
     "output_type": "stream",
     "text": [
      "[[ 1  2  3]\n",
      " [ 4  5  6]\n",
      " [ 7  8  9]\n",
      " [10 11 12]]\n"
     ]
    }
   ],
   "source": [
    "# If we do not know our full dimensions, we can substitute it\n",
    "new_arr = arr.reshape(-1, 3) # automatically figures out it should be 4\n",
    "print(new_arr)"
   ]
  },
  {
   "cell_type": "code",
   "execution_count": 56,
   "metadata": {},
   "outputs": [
    {
     "name": "stdout",
     "output_type": "stream",
     "text": [
      "[ 1  2  3  4  5  6  7  8  9 10 11 12]\n",
      "[[ 1  2  3  4  5  6  7  8  9 10]\n",
      " [11 12 13 14 15 11 12 13 14 15]]\n"
     ]
    }
   ],
   "source": [
    "# To flatten our arrays\n",
    "\n",
    "arr = new_arr.reshape(-1)\n",
    "newer_arr = three_arr.reshape(2, -1)\n",
    "print(arr)\n",
    "print(newer_arr)"
   ]
  },
  {
   "cell_type": "code",
   "execution_count": 60,
   "metadata": {},
   "outputs": [
    {
     "name": "stdout",
     "output_type": "stream",
     "text": [
      "[[[ 1  2  3  4  5]\n",
      "  [ 6  7  8  9 10]]\n",
      "\n",
      " [[11 12 13 14 15]\n",
      "  [11 12 13 14 15]]]\n",
      "1\n",
      "2\n",
      "3\n",
      "4\n",
      "5\n",
      "6\n",
      "7\n",
      "8\n",
      "9\n",
      "10\n",
      "11\n",
      "12\n",
      "13\n",
      "14\n",
      "15\n",
      "11\n",
      "12\n",
      "13\n",
      "14\n",
      "15\n"
     ]
    }
   ],
   "source": [
    "# Iterating through arrays\n",
    "\n",
    "print(three_arr)\n",
    "for x in np.nditer(three_arr):\n",
    "    print(x)"
   ]
  },
  {
   "cell_type": "code",
   "execution_count": 63,
   "metadata": {},
   "outputs": [
    {
     "name": "stdout",
     "output_type": "stream",
     "text": [
      "[[1 2]\n",
      " [3 4]]\n",
      "[[5 6]\n",
      " [7 8]]\n",
      "Concatenating rows: [[1 2]\n",
      " [3 4]\n",
      " [5 6]\n",
      " [7 8]]\n",
      "Concatenating cols:[[1 2 5 6]\n",
      " [3 4 7 8]]\n"
     ]
    }
   ],
   "source": [
    "# Joining arrays\n",
    "# Join based on axis\n",
    "# axis = 0 is based on rows, axis = 1 is based on columns\n",
    "\n",
    "arr1 = np.array([[1,2],[3,4]])\n",
    "arr2 = np.array([[5,6],[7,8]])\n",
    "print(arr1)\n",
    "print(arr2)\n",
    "\n",
    "arr = np.concatenate((arr1, arr2), axis=0)\n",
    "print(f\"Concatenating rows: {arr}\")\n",
    "\n",
    "arr = np.concatenate((arr1, arr2), axis=1)\n",
    "print(f\"Concatenating cols:{arr}\")"
   ]
  },
  {
   "cell_type": "code",
   "execution_count": 70,
   "metadata": {},
   "outputs": [
    {
     "name": "stdout",
     "output_type": "stream",
     "text": [
      "Stack: [[1 2 3]\n",
      " [4 5 6]\n",
      " [7 8 9]]\n",
      "Horizontal stack: [1 2 3 4 5 6 7 8 9]\n",
      "Depth stack: [[[1 4 7]\n",
      "  [2 5 8]\n",
      "  [3 6 9]]]\n"
     ]
    }
   ],
   "source": [
    "# Stacking\n",
    "# Stack(), hstack, dstack()\n",
    "\n",
    "arr1 = np.array([1,2,3])\n",
    "arr2 = np.array([4,5,6])\n",
    "arr3 = np.array([7,8,9])\n",
    "arr = np.stack((arr1,arr2,arr3))\n",
    "print(f\"Stack: {arr}\")\n",
    "\n",
    "arr = np.hstack((arr1,arr2,arr3))\n",
    "print(f\"Horizontal stack: {arr}\")\n",
    "\n",
    "arr = np.dstack((arr1, arr2, arr3))\n",
    "print(f\"Depth stack: {arr}\")"
   ]
  },
  {
   "cell_type": "code",
   "execution_count": 75,
   "metadata": {},
   "outputs": [
    {
     "name": "stdout",
     "output_type": "stream",
     "text": [
      "[array([1, 2]), array([3, 4]), array([5, 6])]\n",
      "[array([1, 2]), array([3, 4]), array([5]), array([6])]\n"
     ]
    }
   ],
   "source": [
    "# Split array into n number of parts\n",
    "\n",
    "arr = np.array([1, 2, 3, 4, 5, 6])\n",
    "new_arr = np.array_split(arr, 3)\n",
    "\n",
    "print(new_arr)\n",
    "\n",
    "# Will split as evenly as it can\n",
    "arr = np.array([1, 2, 3, 4, 5, 6])\n",
    "new_arr = np.array_split(arr, 4)\n",
    "\n",
    "print(new_arr)"
   ]
  },
  {
   "cell_type": "code",
   "execution_count": 81,
   "metadata": {},
   "outputs": [
    {
     "name": "stdout",
     "output_type": "stream",
     "text": [
      "(array([3, 6, 7], dtype=int64),)\n"
     ]
    }
   ],
   "source": [
    "# Searching our arrays is done with the where() method\n",
    "\n",
    "# Returns an array with the indices of all occurences\n",
    "\n",
    "arr = np.array([1,2,3,4,5,6,4,4])\n",
    "x = np.where(arr == 4)\n",
    "print(x)"
   ]
  },
  {
   "cell_type": "code",
   "execution_count": 86,
   "metadata": {},
   "outputs": [
    {
     "name": "stdout",
     "output_type": "stream",
     "text": [
      "5\n"
     ]
    }
   ],
   "source": [
    "# Searchsorted() - only for sorted arrays\n",
    "\n",
    "arr = np.array([1,2,3,4,5,6,7,8,9,10])\n",
    "x = np.searchsorted(arr,6)\n",
    "\n",
    "print(x)"
   ]
  },
  {
   "cell_type": "code",
   "execution_count": 88,
   "metadata": {},
   "outputs": [
    {
     "name": "stdout",
     "output_type": "stream",
     "text": [
      "[[1 2 5]\n",
      " [3 6 9]]\n"
     ]
    }
   ],
   "source": [
    "# Sorting arrays\n",
    "# Can still use python sort() method\n",
    "# np.sort()\n",
    "\n",
    "arr = np.array([[5,2,1],[6,3,9]])\n",
    "print(np.sort(arr))"
   ]
  },
  {
   "cell_type": "code",
   "execution_count": 91,
   "metadata": {},
   "outputs": [
    {
     "name": "stdout",
     "output_type": "stream",
     "text": [
      "[ 41 430]\n"
     ]
    }
   ],
   "source": [
    "# Filtering our arrays\n",
    "# Filter based off a condition\n",
    "# or we can use a boolean array\n",
    "\n",
    "arr = np.array([40,41,42,430])\n",
    "x = [False, True, False, True]\n",
    "\n",
    "filtered_arr = arr[x]\n",
    "print(filtered_arr)"
   ]
  },
  {
   "cell_type": "code",
   "execution_count": 100,
   "metadata": {},
   "outputs": [
    {
     "name": "stdout",
     "output_type": "stream",
     "text": [
      "[15  2  3  4]\n",
      "[15  2  3  4]\n",
      "[1 2 3 4]\n",
      "\n",
      "[15  2  3  4]\n",
      "None\n"
     ]
    }
   ],
   "source": [
    "# Copies vs Views\n",
    "# When we work with Big Data we need to carefully consider what we copy\n",
    "# 4 GB file -> 8 GB\n",
    "# 11 GB file -> 22 GB\n",
    "# Use a view - a reference to the array\n",
    "\n",
    "arr = np.array([1,2,3,4])\n",
    "\n",
    "view = arr.view()\n",
    "copy = arr.copy()\n",
    "arr[0] = 15\n",
    "\n",
    "print(arr)\n",
    "print(view)\n",
    "print(copy)\n",
    "print()\n",
    "print(view.base)\n",
    "print(copy.base)"
   ]
  },
  {
   "cell_type": "code",
   "execution_count": 105,
   "metadata": {},
   "outputs": [
    {
     "name": "stdout",
     "output_type": "stream",
     "text": [
      "Python took: 0.07569217681884766 seconds\n",
      "Numpy took:  0.006699800491333008 seconds\n",
      "Numpy was 1129.767623927974% faster\n"
     ]
    }
   ],
   "source": [
    "# Time comparison\n",
    "import time\n",
    "\n",
    "# Python\n",
    "start = time.time()\n",
    "list = [i for i in range(1000000)]\n",
    "squared = [x**2 for x in list]\n",
    "stop = time.time()\n",
    "\n",
    "pytime = stop-start\n",
    "print(f\"Python took: {stop-start} seconds\")\n",
    "\n",
    "# Numpy arrs\n",
    "start = time.time()\n",
    "arr = np.arange(1_000_000)\n",
    "squared = arr**2\n",
    "stop = time.time()\n",
    "\n",
    "nptime = stop-start\n",
    "print(f\"Numpy took:  {stop-start} seconds\")\n",
    "\n",
    "print(f\"Numpy was {pytime/nptime*100}% faster\")"
   ]
  }
 ],
 "metadata": {
  "kernelspec": {
   "display_name": "Python 3",
   "language": "python",
   "name": "python3"
  },
  "language_info": {
   "codemirror_mode": {
    "name": "ipython",
    "version": 3
   },
   "file_extension": ".py",
   "mimetype": "text/x-python",
   "name": "python",
   "nbconvert_exporter": "python",
   "pygments_lexer": "ipython3",
   "version": "3.11.4"
  }
 },
 "nbformat": 4,
 "nbformat_minor": 2
}

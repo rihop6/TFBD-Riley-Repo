{
 "cells": [
  {
   "cell_type": "code",
   "execution_count": 1,
   "metadata": {},
   "outputs": [],
   "source": [
    "# Regular Expression (RegEx)\n",
    "\n",
    "# Powerful text pattern recognition\n",
    "# Tricky to use\n",
    "# Use it to find patterns within our strings\n",
    "\n",
    "import re"
   ]
  },
  {
   "cell_type": "markdown",
   "metadata": {},
   "source": [
    "https://statics.teams.cdn.office.net/evergreen-assets/safelinks/1/atp-safelinks.html\n",
    "\n",
    "https://regexr.com"
   ]
  },
  {
   "cell_type": "code",
   "execution_count": 22,
   "metadata": {},
   "outputs": [
    {
     "name": "stdout",
     "output_type": "stream",
     "text": [
      "<re.Match object; span=(0, 22), match='Welcome to Skillstorm!'>\n",
      "<re.Match object; span=(0, 10), match='Welcome to'>\n",
      "<re.Match object; span=(0, 22), match='Welcome to Skillstorm!'>\n"
     ]
    }
   ],
   "source": [
    "# re methods\n",
    "# re.findall() - return a list of match objects\n",
    "# re.search() - return the first match\n",
    "# re.split() - return a list where the string has been split at the match\n",
    "# re.sub() - replace any number of matches within our string\n",
    "\n",
    "string = \"Welcome to Skillstorm!\"\n",
    "match = re.search(\"^[^Z]elcome.*storm!$\", string)\n",
    "match2 = re.search(r\"^[Ww]?\\w+ (T|t)o\", string)\n",
    "match3 = re.search(r\"^\\w+\\sto.[^0-9]\\D.*[.!?]$\", string)\n",
    "print(match)\n",
    "print(match2)\n",
    "print(match3)"
   ]
  },
  {
   "cell_type": "code",
   "execution_count": 35,
   "metadata": {},
   "outputs": [
    {
     "name": "stdout",
     "output_type": "stream",
     "text": [
      "\u0007\n",
      "\\a\n",
      "['Welcome', 'to', 'Skillstorm']\n",
      "['Welcome', 'Skillstorm!']\n"
     ]
    }
   ],
   "source": [
    "# Regex Operators\n",
    "# \\ is an escape character\n",
    "# We can use a raw string r\"string\"\n",
    "\n",
    "print(\"\\a\")\n",
    "print(r\"\\a\")\n",
    "\n",
    "# \\A or ^ - Matches the beginning of the string\n",
    "# \\b - Matches characters at the beginning or end of a word\n",
    "# \\B - Matches characters NOT at the beginning or end of a word\n",
    "# \\d - Matches a digit 0-9\n",
    "# \\D - Matches NOT a digit\n",
    "# \\s - Matches a whitespace character\n",
    "# \\S - matches NOT a whitespace character\n",
    "# \\w - Matches a-z, A-Z, 0-9, _\n",
    "# \\W - Matches any non-word character\n",
    "# \\Z or $ - Matches at the end of the string\n",
    "\n",
    "# Meta Characters\n",
    "# [] - A set of characters [0-9] [abcde]\n",
    "# . - any ONE character\n",
    "# ^ - When used inside [] it becomes NOT\n",
    "# $ - Ends with\n",
    "# * - Zero or more of\n",
    "# + - One or more of\n",
    "# ? - Zero or one of\n",
    "# {n} - n occurences of\n",
    "# | - Either or a|A\n",
    "# () - Capture and group\n",
    "\n",
    "word_list = re.findall(r\"\\w+\", string)\n",
    "print(word_list)\n",
    "\n",
    "split_list = re.split(r\"\\b[a-zA-Z]{2}\\b\", string)\n",
    "print(split_list)"
   ]
  },
  {
   "cell_type": "code",
   "execution_count": 36,
   "metadata": {},
   "outputs": [
    {
     "name": "stdout",
     "output_type": "stream",
     "text": [
      "Welcome at Skillstorm!\n"
     ]
    }
   ],
   "source": [
    "new_string = re.sub(r\"\\b[a-zA-Z]{2}\\b\", \"at\", string)\n",
    "print(new_string)"
   ]
  }
 ],
 "metadata": {
  "kernelspec": {
   "display_name": "Python 3",
   "language": "python",
   "name": "python3"
  },
  "language_info": {
   "codemirror_mode": {
    "name": "ipython",
    "version": 3
   },
   "file_extension": ".py",
   "mimetype": "text/x-python",
   "name": "python",
   "nbconvert_exporter": "python",
   "pygments_lexer": "ipython3",
   "version": "3.12.4"
  }
 },
 "nbformat": 4,
 "nbformat_minor": 2
}

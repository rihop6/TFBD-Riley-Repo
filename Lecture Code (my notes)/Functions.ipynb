{
 "cells": [
  {
   "cell_type": "code",
   "execution_count": 9,
   "metadata": {},
   "outputs": [],
   "source": [
    "# Functions\n",
    "# Procedure that is repeatable.\n",
    "# Takes inputs and can produce an output\n",
    "\n",
    "# Functions can use type hints to indicate what the types should be\n",
    "def calculate_area(length: int = 0, width: int = 0) -> int:\n",
    "    return length * width"
   ]
  },
  {
   "cell_type": "code",
   "execution_count": 10,
   "metadata": {},
   "outputs": [
    {
     "name": "stdout",
     "output_type": "stream",
     "text": [
      "30\n",
      "30\n",
      "0\n"
     ]
    }
   ],
   "source": [
    "print(calculate_area(5, 6))\n",
    "\n",
    "print(calculate_area(width=6, length=5))\n",
    "\n",
    "print(calculate_area())\n",
    "\n"
   ]
  },
  {
   "cell_type": "code",
   "execution_count": 12,
   "metadata": {},
   "outputs": [],
   "source": [
    "# Method Overriding - Override a parents method\n",
    "\n",
    "class Shape:\n",
    "    def area(length, width):\n",
    "        return length * width\n",
    "    \n",
    "class Triangle(Shape):\n",
    "    def area(length, width, height):\n",
    "        return 0.5*length*width*height\n",
    "\n",
    "class Rectangle(Shape):\n",
    "    pass"
   ]
  },
  {
   "cell_type": "code",
   "execution_count": null,
   "metadata": {},
   "outputs": [],
   "source": [
    "# Method Overloading - is having two of the same methods with different arguments\n",
    "\n",
    "# This DOES NOT work!!! Overloading in python doesn't really exist\n",
    "def method_1(x,y):\n",
    "    return x+y\n",
    "\n",
    "def method_1(x,y,z):\n",
    "    return x+y+z\n",
    "\n",
    "print(method_1(1,2))"
   ]
  },
  {
   "cell_type": "code",
   "execution_count": 16,
   "metadata": {},
   "outputs": [
    {
     "name": "stdout",
     "output_type": "stream",
     "text": [
      "2\n",
      "6\n"
     ]
    }
   ],
   "source": [
    "# This is the next best equivalent\n",
    "def method_1(x,y,z=0):\n",
    "    if(z):\n",
    "        return x*y*z\n",
    "    return x*y\n",
    "\n",
    "print(method_1(1,2))\n",
    "print(method_1(1,2,3))"
   ]
  },
  {
   "cell_type": "code",
   "execution_count": 20,
   "metadata": {},
   "outputs": [
    {
     "name": "stdout",
     "output_type": "stream",
     "text": [
      "('fruit', 'cabbage', 'soda', 'Shampoo')\n",
      "We still have to pick up 4 from the store\n",
      "{'food': 'fruit', 'veggie': 'cabbage', 'drink': 'soda', 'personal': 'Shampoo'}\n",
      "We still have to pick up 4 from the store\n"
     ]
    }
   ],
   "source": [
    "# If we don't know how many arguments will be passed in we use *args\n",
    "\n",
    "def shopping_list(*items):\n",
    "    print(items)\n",
    "    print(f\"We still have to pick up {len(items)} from the store\")\n",
    "\n",
    "def shopping_list2(**items):\n",
    "    print(items)\n",
    "    print(f\"We still have to pick up {len(items)} from the store\")\n",
    "\n",
    "# As a list:\n",
    "shopping_list(\"fruit\", \"cabbage\", \"soda\", \"Shampoo\")\n",
    "# As a dictionary:\n",
    "shopping_list2(food = \"fruit\", veggie = \"cabbage\", drink = \"soda\", personal = \"Shampoo\")"
   ]
  },
  {
   "cell_type": "code",
   "execution_count": 22,
   "metadata": {},
   "outputs": [
    {
     "name": "stdout",
     "output_type": "stream",
     "text": [
      "8\n",
      "[0, 1, 1, 2, 3, 5, 8, 13, 21, 34]\n"
     ]
    }
   ],
   "source": [
    "# Recursive Functions\n",
    "\n",
    "def fibonacci(n):\n",
    "    if( n <= 1):\n",
    "        return n\n",
    "    return fibonacci(n-1) + fibonacci(n-2)\n",
    "\n",
    "print(fibonacci(6))\n",
    "print([fibonacci(n) for n in range(10)])"
   ]
  },
  {
   "cell_type": "code",
   "execution_count": 27,
   "metadata": {},
   "outputs": [
    {
     "name": "stdout",
     "output_type": "stream",
     "text": [
      "[2, 4, 6, 8]\n",
      "[1, 4, 9, 16, 25, 36, 49, 64, 81]\n",
      "[1, 4, 9, 16, 25, 36, 49, 64, 81]\n"
     ]
    },
    {
     "data": {
      "text/plain": [
       "<function __main__.<lambda>(x, y, z)>"
      ]
     },
     "execution_count": 27,
     "metadata": {},
     "output_type": "execute_result"
    }
   ],
   "source": [
    "# lambda function\n",
    "# Anonymous function\n",
    "\n",
    "numbers = [1,2,3,4,5,6,7,8,9]\n",
    "# Each time x is passed into lambda, return only if x%2==0\n",
    "even_numbers = list(filter(lambda x: (x%2==0), numbers))\n",
    "print(even_numbers)\n",
    "\n",
    "squares = list(map(lambda x: x**2, numbers))\n",
    "squares2 = [x**2 for x in numbers]\n",
    "print(squares)\n",
    "print(squares2)\n",
    "\n",
    "# lambda can have multiple args\n",
    "lambda x,y,z: (x*y+z)"
   ]
  }
 ],
 "metadata": {
  "kernelspec": {
   "display_name": "Python 3",
   "language": "python",
   "name": "python3"
  },
  "language_info": {
   "codemirror_mode": {
    "name": "ipython",
    "version": 3
   },
   "file_extension": ".py",
   "mimetype": "text/x-python",
   "name": "python",
   "nbconvert_exporter": "python",
   "pygments_lexer": "ipython3",
   "version": "3.12.4"
  }
 },
 "nbformat": 4,
 "nbformat_minor": 2
}

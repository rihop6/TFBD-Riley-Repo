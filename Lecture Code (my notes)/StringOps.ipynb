{
 "cells": [
  {
   "cell_type": "markdown",
   "metadata": {},
   "source": [
    "# String Operations"
   ]
  },
  {
   "cell_type": "code",
   "execution_count": 19,
   "metadata": {},
   "outputs": [],
   "source": [
    "string = \"    Hello World!\""
   ]
  },
  {
   "cell_type": "code",
   "execution_count": 20,
   "metadata": {},
   "outputs": [
    {
     "name": "stdout",
     "output_type": "stream",
     "text": [
      "l\n",
      "L\n",
      "L\n",
      "L\n"
     ]
    }
   ],
   "source": [
    "# char\n",
    "\n",
    "print(string[6])\n",
    "\n",
    "for char in string:\n",
    "    if(char == 'l'):\n",
    "        print(char.upper())"
   ]
  },
  {
   "cell_type": "code",
   "execution_count": 21,
   "metadata": {},
   "outputs": [
    {
     "name": "stdout",
     "output_type": "stream",
     "text": [
      "    HELLO WORLD!\n",
      "    hello world!\n",
      "    Hello World!\n"
     ]
    }
   ],
   "source": [
    "print(string.upper())\n",
    "print(string.lower())\n",
    "print(string.title())"
   ]
  },
  {
   "cell_type": "code",
   "execution_count": 22,
   "metadata": {},
   "outputs": [
    {
     "name": "stdout",
     "output_type": "stream",
     "text": [
      "False\n"
     ]
    }
   ],
   "source": [
    "print('A' == 'a')"
   ]
  },
  {
   "cell_type": "code",
   "execution_count": 26,
   "metadata": {},
   "outputs": [
    {
     "name": "stdout",
     "output_type": "stream",
     "text": [
      "    Hello World!\n",
      "Hello World!\n",
      ",,,,grHello,,,,\n",
      "Hello\n",
      "['Hello', 'World!']\n"
     ]
    }
   ],
   "source": [
    "print(string)\n",
    "print(string.strip())\n",
    "\n",
    "diff_string = \",,,,grHello,,,,\"\n",
    "print(diff_string)\n",
    "print(diff_string.strip(\",gr\"))\n",
    "\n",
    "# Splitting a string\n",
    "print(string.split())"
   ]
  },
  {
   "cell_type": "code",
   "execution_count": 27,
   "metadata": {},
   "outputs": [
    {
     "name": "stdout",
     "output_type": "stream",
     "text": [
      "This String\n",
      "8888888888\n"
     ]
    }
   ],
   "source": [
    "# Math on a String\n",
    "\n",
    "str1 = \"This\"\n",
    "str2 = \"String\"\n",
    "x = \"8\"\n",
    "y = 10\n",
    "\n",
    "print(str1 + ' ' + str2)\n",
    "print(x * y)"
   ]
  },
  {
   "cell_type": "code",
   "execution_count": 30,
   "metadata": {},
   "outputs": [
    {
     "name": "stdout",
     "output_type": "stream",
     "text": [
      "There's a new game\n",
      "♞\n"
     ]
    }
   ],
   "source": [
    "# Escape Character\n",
    "# \\\n",
    "\n",
    "print('There\\'s a new game')\n",
    "\n",
    "# Special String Encoding\n",
    "# We use UTF-8\n",
    "print('\\u265E')"
   ]
  },
  {
   "cell_type": "code",
   "execution_count": 33,
   "metadata": {},
   "outputs": [
    {
     "name": "stdout",
     "output_type": "stream",
     "text": [
      "2.165185498 people will graduate with 7.221 grade\n",
      "2.17 people will graduate with 7.2 Grade\n"
     ]
    }
   ],
   "source": [
    "# String formatting\n",
    "\n",
    "x = 2.165185498\n",
    "y = 7.221\n",
    "string2 = \"{0} people will graduate with {1} grade\"\n",
    "print(string2.format(x,y))\n",
    "\n",
    "# f strings still call the str.format() method\n",
    "print(f\"{x:.2f} people will graduate with {y:.1f} Grade\")"
   ]
  },
  {
   "cell_type": "code",
   "execution_count": 37,
   "metadata": {},
   "outputs": [
    {
     "name": "stdout",
     "output_type": "stream",
     "text": [
      "True\n",
      "This is getting something new\n"
     ]
    }
   ],
   "source": [
    "# Can always use \"in\" to see if something is in another structure\n",
    "print(\"dog\" in \"dogma\")\n",
    "\n",
    "string3 = \"This is getting replaced\"\n",
    "# Replace function\n",
    "if(\"replace\" in string3):\n",
    "    string4 = string3.replace(\"replaced\", \"something new\")\n",
    "\n",
    "print(string4)"
   ]
  }
 ],
 "metadata": {
  "kernelspec": {
   "display_name": "Python 3",
   "language": "python",
   "name": "python3"
  },
  "language_info": {
   "codemirror_mode": {
    "name": "ipython",
    "version": 3
   },
   "file_extension": ".py",
   "mimetype": "text/x-python",
   "name": "python",
   "nbconvert_exporter": "python",
   "pygments_lexer": "ipython3",
   "version": "3.12.4"
  }
 },
 "nbformat": 4,
 "nbformat_minor": 2
}

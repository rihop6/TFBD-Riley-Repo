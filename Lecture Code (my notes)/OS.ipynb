{
 "cells": [
  {
   "cell_type": "code",
   "execution_count": 1,
   "metadata": {},
   "outputs": [
    {
     "name": "stdout",
     "output_type": "stream",
     "text": [
      "c:\\Users\\ghubb\\Desktop\\Projects\\Skillstorm\\TFBD\\Python Workspace\\TFBD-Riley-Repo\\Lecture Code (my notes)\n"
     ]
    }
   ],
   "source": [
    "# We can interact directly with our Operating System through Python\n",
    "import os\n",
    "\n",
    "cwd = os.getcwd()\n",
    "print(cwd)"
   ]
  },
  {
   "cell_type": "code",
   "execution_count": 5,
   "metadata": {},
   "outputs": [
    {
     "name": "stdout",
     "output_type": "stream",
     "text": [
      "C:\\Users\\ghubb\\Desktop\\Projects\\Skillstorm\\TFBD\\Python Workspace\\TFBD-Riley-Repo\\Lecture Code (my notes)\\Assets\n"
     ]
    }
   ],
   "source": [
    "new_directory = \"C:\\\\Users\\\\ghubb\\\\Desktop\\\\Projects\\\\Skillstorm\\\\TFBD\\\\Python Workspace\\\\TFBD-Riley-Repo\\\\Lecture Code (my notes)\\\\Assets\"\n",
    "os.chdir(new_directory)\n",
    "\n",
    "cwd = os.getcwd()\n",
    "print(cwd)"
   ]
  },
  {
   "cell_type": "code",
   "execution_count": 15,
   "metadata": {},
   "outputs": [],
   "source": [
    "# We can create new directories\n",
    "base_path = \"C:\\\\Users\\\\ghubb\\\\Desktop\\\\Projects\\\\Skillstorm\\\\TFBD\\\\Python Workspace\\\\TFBD-Riley-Repo\\\\Lecture Code (my notes)\\\\Assets\"\n",
    "new_dir = \"/demo\"\n",
    "\n",
    "new_new_dir = \"C:\\\\Users\\\\ghubb\\\\Desktop\\\\Projects\\\\Skillstorm\\\\TFBD\\\\Python Workspace\\\\TFBD-Riley-Repo\\\\Lecture Code (my notes)\\\\Assets\\\\demo2\"\n",
    "\n",
    "os.mkdir(base_path + new_dir)\n",
    "os.mkdir(new_new_dir)"
   ]
  },
  {
   "cell_type": "code",
   "execution_count": 18,
   "metadata": {},
   "outputs": [
    {
     "ename": "FileNotFoundError",
     "evalue": "[WinError 3] The system cannot find the path specified: 'C:\\\\Users\\\\ghubb\\\\Desktop\\\\Projects\\\\Skillstorm\\\\TFBD\\\\Python Workspace\\\\TFBD-Riley-Repo\\\\Lecture Code (my notes)\\\\Assets/demo3/test/new_folder'",
     "output_type": "error",
     "traceback": [
      "\u001b[1;31m---------------------------------------------------------------------------\u001b[0m",
      "\u001b[1;31mFileNotFoundError\u001b[0m                         Traceback (most recent call last)",
      "Cell \u001b[1;32mIn[18], line 8\u001b[0m\n\u001b[0;32m      4\u001b[0m new_dir \u001b[38;5;241m=\u001b[39m \u001b[38;5;124m\"\u001b[39m\u001b[38;5;124m/demo3/test/new_folder\u001b[39m\u001b[38;5;124m\"\u001b[39m\n\u001b[0;32m      6\u001b[0m example_dir \u001b[38;5;241m=\u001b[39m os\u001b[38;5;241m.\u001b[39mpath\u001b[38;5;241m.\u001b[39mjoin(base_path, new_dir)\n\u001b[1;32m----> 8\u001b[0m \u001b[43mos\u001b[49m\u001b[38;5;241;43m.\u001b[39;49m\u001b[43mmkdir\u001b[49m\u001b[43m(\u001b[49m\u001b[43mbase_path\u001b[49m\u001b[43m \u001b[49m\u001b[38;5;241;43m+\u001b[39;49m\u001b[43m \u001b[49m\u001b[43mnew_dir\u001b[49m\u001b[43m)\u001b[49m\n\u001b[0;32m     10\u001b[0m \u001b[38;5;28mprint\u001b[39m(example_dir)\n",
      "\u001b[1;31mFileNotFoundError\u001b[0m: [WinError 3] The system cannot find the path specified: 'C:\\\\Users\\\\ghubb\\\\Desktop\\\\Projects\\\\Skillstorm\\\\TFBD\\\\Python Workspace\\\\TFBD-Riley-Repo\\\\Lecture Code (my notes)\\\\Assets/demo3/test/new_folder'"
     ]
    }
   ],
   "source": [
    "# Cannot nest directories with mkdir\n",
    "\n",
    "base_path = \"C:\\\\Users\\\\ghubb\\\\Desktop\\\\Projects\\\\Skillstorm\\\\TFBD\\\\Python Workspace\\\\TFBD-Riley-Repo\\\\Lecture Code (my notes)\\\\Assets\"\n",
    "new_dir = \"/demo3/test/new_folder\"\n",
    "\n",
    "example_dir = os.path.join(base_path, new_dir)\n",
    "\n",
    "os.mkdir(base_path + new_dir)\n",
    "\n",
    "print(example_dir)"
   ]
  },
  {
   "cell_type": "code",
   "execution_count": 19,
   "metadata": {},
   "outputs": [],
   "source": [
    "# We can nest the directories if we use the makedirs\n",
    "os.makedirs(base_path + new_dir)"
   ]
  },
  {
   "cell_type": "code",
   "execution_count": 14,
   "metadata": {},
   "outputs": [
    {
     "name": "stdout",
     "output_type": "stream",
     "text": [
      "['Cat_meme_2.jpg', 'output.txt', 'output2.txt', 'Persian_Cat_Room_Guardian_meme_banner.jpg', 'Pride_and_Prejudice.txt']\n"
     ]
    }
   ],
   "source": [
    "# If we need all of our directories in a list\n",
    "root = '/' # cd /\n",
    "dirs = os.listdir(os.getcwd())\n",
    "print(dirs)"
   ]
  },
  {
   "cell_type": "code",
   "execution_count": 21,
   "metadata": {},
   "outputs": [],
   "source": [
    "# Remove Empty Directories\n",
    "new_dir = \"/demo2\"\n",
    "\n",
    "os.rmdir(base_path + new_dir)"
   ]
  },
  {
   "cell_type": "code",
   "execution_count": 23,
   "metadata": {},
   "outputs": [],
   "source": [
    "# Remove files from folders\n",
    "\n",
    "rm_file = \"/output.txt\"\n",
    "file_path = base_path + rm_file\n",
    "os.remove(file_path)"
   ]
  },
  {
   "cell_type": "code",
   "execution_count": 24,
   "metadata": {},
   "outputs": [
    {
     "name": "stdout",
     "output_type": "stream",
     "text": [
      "C:\\Users\\ghubb\\Desktop\\Projects\\Skillstorm\\TFBD\\Python Workspace\\TFBD-Riley-Repo\\Lecture Code (my notes)\\Assets\n",
      "['demo3']\n",
      "['Cat_meme_2.jpg', 'output2.txt', 'Persian_Cat_Room_Guardian_meme_banner.jpg', 'Pride_and_Prejudice.txt']\n",
      "C:\\Users\\ghubb\\Desktop\\Projects\\Skillstorm\\TFBD\\Python Workspace\\TFBD-Riley-Repo\\Lecture Code (my notes)\\Assets\\demo3\n",
      "['test']\n",
      "[]\n",
      "C:\\Users\\ghubb\\Desktop\\Projects\\Skillstorm\\TFBD\\Python Workspace\\TFBD-Riley-Repo\\Lecture Code (my notes)\\Assets\\demo3\\test\n",
      "['new_folder']\n",
      "[]\n",
      "C:\\Users\\ghubb\\Desktop\\Projects\\Skillstorm\\TFBD\\Python Workspace\\TFBD-Riley-Repo\\Lecture Code (my notes)\\Assets\\demo3\\test\\new_folder\n",
      "[]\n",
      "[]\n"
     ]
    }
   ],
   "source": [
    "# We can read multiple files and directories\n",
    "for root, dirs, files in os.walk(os.getcwd()):\n",
    "    print(root)\n",
    "    print(dirs)\n",
    "    print(files)"
   ]
  }
 ],
 "metadata": {
  "kernelspec": {
   "display_name": "Python 3",
   "language": "python",
   "name": "python3"
  },
  "language_info": {
   "codemirror_mode": {
    "name": "ipython",
    "version": 3
   },
   "file_extension": ".py",
   "mimetype": "text/x-python",
   "name": "python",
   "nbconvert_exporter": "python",
   "pygments_lexer": "ipython3",
   "version": "3.12.4"
  }
 },
 "nbformat": 4,
 "nbformat_minor": 2
}

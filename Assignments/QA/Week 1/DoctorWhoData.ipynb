{
 "cells": [
  {
   "cell_type": "markdown",
   "metadata": {},
   "source": [
    "# Doctor Who EDA:\n",
    "Dataset: https://www.kaggle.com/datasets/sujaykapadnis/doctor-who-tv-series-dataset/data?select=drwho_writers.csv\n"
   ]
  },
  {
   "cell_type": "code",
   "execution_count": 2,
   "metadata": {},
   "outputs": [
    {
     "name": "stdout",
     "output_type": "stream",
     "text": [
      "<class 'pandas.core.frame.DataFrame'>\n",
      "RangeIndex: 175 entries, 0 to 174\n",
      "Data columns (total 12 columns):\n",
      " #   Column           Non-Null Count  Dtype  \n",
      "---  ------           --------------  -----  \n",
      " 0   era              175 non-null    object \n",
      " 1   season_number    165 non-null    float64\n",
      " 2   serial_title     6 non-null      object \n",
      " 3   story_number     175 non-null    object \n",
      " 4   episode_number   163 non-null    float64\n",
      " 5   episode_title    175 non-null    object \n",
      " 6   type             175 non-null    object \n",
      " 7   first_aired      175 non-null    object \n",
      " 8   production_code  87 non-null     object \n",
      " 9   uk_viewers       175 non-null    float64\n",
      " 10  rating           175 non-null    int64  \n",
      " 11  duration         175 non-null    int64  \n",
      "dtypes: float64(3), int64(2), object(7)\n",
      "memory usage: 16.5+ KB\n"
     ]
    }
   ],
   "source": [
    "import pandas as pd\n",
    "\n",
    "df = pd.read_csv(\"./drwho_episodes.csv\")\n",
    "df.info()"
   ]
  },
  {
   "cell_type": "markdown",
   "metadata": {},
   "source": [
    "### Handle Null Values\n",
    "Of the 11 columns, 4 of them have null values. We'll dive into why and what we should do to resolve this below. We'll need to resolve:\n",
    "- season_number\n",
    "- serial_title\n",
    "- episode_number\n",
    "- production_code"
   ]
  },
  {
   "cell_type": "code",
   "execution_count": 7,
   "metadata": {},
   "outputs": [
    {
     "data": {
      "text/plain": [
       "type\n",
       "episode    153\n",
       "special     22\n",
       "Name: count, dtype: int64"
      ]
     },
     "execution_count": 7,
     "metadata": {},
     "output_type": "execute_result"
    }
   ],
   "source": [
    "# season_number analysis\n",
    "df.head(20)\n",
    "df[\"season_number\"].value_counts()\n",
    "df[\"serial_title\"].value_counts()\n",
    "df[\"type\"].value_counts()"
   ]
  },
  {
   "cell_type": "markdown",
   "metadata": {},
   "source": [
    "# Progress to be continued soon"
   ]
  }
 ],
 "metadata": {
  "kernelspec": {
   "display_name": "Python 3",
   "language": "python",
   "name": "python3"
  },
  "language_info": {
   "codemirror_mode": {
    "name": "ipython",
    "version": 3
   },
   "file_extension": ".py",
   "mimetype": "text/x-python",
   "name": "python",
   "nbconvert_exporter": "python",
   "pygments_lexer": "ipython3",
   "version": "3.12.4"
  }
 },
 "nbformat": 4,
 "nbformat_minor": 2
}

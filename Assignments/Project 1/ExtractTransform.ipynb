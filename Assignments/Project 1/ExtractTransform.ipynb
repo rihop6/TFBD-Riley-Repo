{
 "cells": [
  {
   "cell_type": "markdown",
   "metadata": {},
   "source": [
    "# Step 1: Load the Data (Extract)"
   ]
  },
  {
   "cell_type": "code",
   "execution_count": 137,
   "metadata": {},
   "outputs": [],
   "source": [
    "# Imports\n",
    "import requests\n",
    "import os\n",
    "import pandas as pd\n",
    "from dotenv import load_dotenv\n",
    "\n",
    "# Make sure .env is loaded and load the polygon API key\n",
    "load_dotenv(\"../../.env\")\n",
    "api_key = os.environ['poly_api']\n",
    "\n",
    "# Construct the API URLs\n",
    "wgmi_url = f\"https://api.polygon.io/v2/aggs/ticker/WGMI/range/1/day/2023-01-01/2024-12-31?adjusted=false&sort=asc&apiKey={api_key}\"\n",
    "nvda_url = f\"https://api.polygon.io/v2/aggs/ticker/NVDA/range/1/day/2023-01-01/2024-12-31?adjusted=true&sort=asc&apiKey={api_key}\"\n",
    "forex_url = f\"https://api.polygon.io/v2/aggs/ticker/C:EURUSD/range/1/day/2023-01-01/2024-12-31?adjusted=true&sort=asc&apiKey={api_key}\"\n",
    "index_url = f\"https://api.polygon.io/v2/aggs/ticker/I:NDX/range/1/day/2023-01-01/2024-12-31?sort=asc&apiKey={api_key}\"\n",
    "\n",
    "# Make requests to API\n",
    "etf_data = requests.get(wgmi_url).json()\n",
    "nvda_data = requests.get(nvda_url).json()\n",
    "forex_data = requests.get(forex_url).json()\n",
    "index_data = requests.get(index_url).json()\n",
    "\n",
    "# Convert responses into dataframes\n",
    "etf_df = pd.json_normalize(etf_data['results'])\n",
    "nvda_df = pd.json_normalize(nvda_data['results'])\n",
    "forex_df = pd.json_normalize(forex_data['results'])\n",
    "index_df = pd.json_normalize(index_data['results'])"
   ]
  },
  {
   "cell_type": "markdown",
   "metadata": {},
   "source": [
    "# Step 2: Clean the Data (Transform)\n",
    "Our data cleaning process will be as follows:\n",
    "1. Look for nulls, unecessary data, etc\n",
    "2. Give columns more descriptive names\n",
    "3. Convert values to a more readable format (i.e. unix to datetime)\n",
    "4. Add data into the dataframe\n",
    "5. Stack the dataframes into one big dataframe"
   ]
  },
  {
   "cell_type": "markdown",
   "metadata": {},
   "source": [
    "1. Look for nulls, unecessary data, etc\n",
    "\n",
    "    First, we will check each dataframe using info()"
   ]
  },
  {
   "cell_type": "code",
   "execution_count": 138,
   "metadata": {},
   "outputs": [
    {
     "name": "stdout",
     "output_type": "stream",
     "text": [
      "<class 'pandas.core.frame.DataFrame'>\n",
      "RangeIndex: 381 entries, 0 to 380\n",
      "Data columns (total 8 columns):\n",
      " #   Column  Non-Null Count  Dtype  \n",
      "---  ------  --------------  -----  \n",
      " 0   v       381 non-null    float64\n",
      " 1   vw      381 non-null    float64\n",
      " 2   o       381 non-null    float64\n",
      " 3   c       381 non-null    float64\n",
      " 4   h       381 non-null    float64\n",
      " 5   l       381 non-null    float64\n",
      " 6   t       381 non-null    int64  \n",
      " 7   n       381 non-null    int64  \n",
      "dtypes: float64(6), int64(2)\n",
      "memory usage: 23.9 KB\n"
     ]
    }
   ],
   "source": [
    "etf_df.info()"
   ]
  },
  {
   "cell_type": "code",
   "execution_count": 139,
   "metadata": {},
   "outputs": [
    {
     "name": "stdout",
     "output_type": "stream",
     "text": [
      "<class 'pandas.core.frame.DataFrame'>\n",
      "RangeIndex: 381 entries, 0 to 380\n",
      "Data columns (total 8 columns):\n",
      " #   Column  Non-Null Count  Dtype  \n",
      "---  ------  --------------  -----  \n",
      " 0   v       381 non-null    float64\n",
      " 1   vw      381 non-null    float64\n",
      " 2   o       381 non-null    float64\n",
      " 3   c       381 non-null    float64\n",
      " 4   h       381 non-null    float64\n",
      " 5   l       381 non-null    float64\n",
      " 6   t       381 non-null    int64  \n",
      " 7   n       381 non-null    int64  \n",
      "dtypes: float64(6), int64(2)\n",
      "memory usage: 23.9 KB\n"
     ]
    }
   ],
   "source": [
    "nvda_df.info()"
   ]
  },
  {
   "cell_type": "code",
   "execution_count": 140,
   "metadata": {},
   "outputs": [
    {
     "name": "stdout",
     "output_type": "stream",
     "text": [
      "<class 'pandas.core.frame.DataFrame'>\n",
      "RangeIndex: 501 entries, 0 to 500\n",
      "Data columns (total 8 columns):\n",
      " #   Column  Non-Null Count  Dtype  \n",
      "---  ------  --------------  -----  \n",
      " 0   v       501 non-null    int64  \n",
      " 1   vw      501 non-null    float64\n",
      " 2   o       501 non-null    float64\n",
      " 3   c       501 non-null    float64\n",
      " 4   h       501 non-null    float64\n",
      " 5   l       501 non-null    float64\n",
      " 6   t       501 non-null    int64  \n",
      " 7   n       501 non-null    int64  \n",
      "dtypes: float64(5), int64(3)\n",
      "memory usage: 31.4 KB\n"
     ]
    }
   ],
   "source": [
    "forex_df.info()"
   ]
  },
  {
   "cell_type": "code",
   "execution_count": 141,
   "metadata": {},
   "outputs": [
    {
     "name": "stdout",
     "output_type": "stream",
     "text": [
      "<class 'pandas.core.frame.DataFrame'>\n",
      "RangeIndex: 348 entries, 0 to 347\n",
      "Data columns (total 5 columns):\n",
      " #   Column  Non-Null Count  Dtype  \n",
      "---  ------  --------------  -----  \n",
      " 0   o       348 non-null    float64\n",
      " 1   c       348 non-null    float64\n",
      " 2   h       348 non-null    float64\n",
      " 3   l       348 non-null    float64\n",
      " 4   t       348 non-null    int64  \n",
      "dtypes: float64(4), int64(1)\n",
      "memory usage: 13.7 KB\n"
     ]
    }
   ],
   "source": [
    "index_df.info()"
   ]
  },
  {
   "cell_type": "markdown",
   "metadata": {},
   "source": [
    "There are no nulls to deal with- but we have 3 columns we don't need. Volume, Volume Weighted Average Price, and Transaction Count. We will remove these."
   ]
  },
  {
   "cell_type": "code",
   "execution_count": 142,
   "metadata": {},
   "outputs": [],
   "source": [
    "# Drop unecessary columns\n",
    "etf_df.drop(columns=['v', 'vw', 'n'], inplace=True)\n",
    "nvda_df.drop(columns=['v', 'vw', 'n'], inplace=True)\n",
    "forex_df.drop(columns=['v', 'vw', 'n'], inplace=True)\n",
    "# Index does not have these columns"
   ]
  },
  {
   "cell_type": "markdown",
   "metadata": {},
   "source": [
    "2. Give columns more descriptive names"
   ]
  },
  {
   "cell_type": "code",
   "execution_count": 143,
   "metadata": {},
   "outputs": [],
   "source": [
    "etf_df.rename(columns={\n",
    "    'o': 'Open Price ($)',\n",
    "    'c': 'Close Price ($)',\n",
    "    'h': 'Highest Price ($)',\n",
    "    'l': 'Lowest Price ($)',\n",
    "    't': 'Date'\n",
    "    }, inplace=True)\n",
    "\n",
    "nvda_df.rename(columns={\n",
    "    'o': 'Open Price ($)',\n",
    "    'c': 'Close Price ($)',\n",
    "    'h': 'Highest Price ($)',\n",
    "    'l': 'Lowest Price ($)',\n",
    "    't': 'Date'\n",
    "    }, inplace=True)\n",
    "\n",
    "forex_df.rename(columns={\n",
    "    'o': 'Open Price ($)',\n",
    "    'c': 'Close Price ($)',\n",
    "    'h': 'Highest Price ($)',\n",
    "    'l': 'Lowest Price ($)',\n",
    "    't': 'Date'\n",
    "    }, inplace=True)\n",
    "\n",
    "index_df.rename(columns={\n",
    "    'o': 'Open Price ($)',\n",
    "    'c': 'Close Price ($)',\n",
    "    'h': 'Highest Price ($)',\n",
    "    'l': 'Lowest Price ($)',\n",
    "    't': 'Date'\n",
    "    }, inplace=True)"
   ]
  },
  {
   "cell_type": "markdown",
   "metadata": {},
   "source": [
    "3. Convert values to a more readable format (i.e. unix to datetime)\n",
    "\n",
    "    The only value that really needs changed is the datetime."
   ]
  },
  {
   "cell_type": "code",
   "execution_count": 144,
   "metadata": {},
   "outputs": [],
   "source": [
    "# Convert Unix to datetime\n",
    "etf_df['Date'] = pd.to_datetime(etf_df['Date'], unit=\"ms\")\n",
    "nvda_df['Date'] = pd.to_datetime(nvda_df['Date'], unit=\"ms\")\n",
    "forex_df['Date'] = pd.to_datetime(forex_df['Date'], unit=\"ms\")\n",
    "index_df['Date'] = pd.to_datetime(index_df['Date'], unit=\"ms\")\n",
    "\n",
    "# Format datetime\n",
    "etf_df['Date'] = etf_df['Date'].dt.strftime('%Y-%m-%d')\n",
    "nvda_df['Date'] = nvda_df['Date'].dt.strftime('%Y-%m-%d')\n",
    "forex_df['Date'] = forex_df['Date'].dt.strftime('%Y-%m-%d')\n",
    "index_df['Date'] = index_df['Date'].dt.strftime('%Y-%m-%d')"
   ]
  },
  {
   "cell_type": "markdown",
   "metadata": {},
   "source": [
    "4. Add data into the dataframe\n",
    "\n",
    "    We want the symbol for each stock, as we will combine each data frame into one big dataframe to make it easier to handle in SQL."
   ]
  },
  {
   "cell_type": "code",
   "execution_count": 145,
   "metadata": {},
   "outputs": [],
   "source": [
    "# Add in ticker symbols\n",
    "etf_df.insert(loc=0, column=\"Symbol\", value=\"WGMI\")\n",
    "nvda_df.insert(loc=0, column=\"Symbol\", value=\"NVDA\")\n",
    "forex_df.insert(loc=0, column=\"Symbol\", value=\"C:EURUSD\")\n",
    "index_df.insert(loc=0, column=\"Symbol\", value=\"NDX\")"
   ]
  },
  {
   "cell_type": "markdown",
   "metadata": {},
   "source": [
    "5. Stack the dataframes into one big dataframe"
   ]
  },
  {
   "cell_type": "code",
   "execution_count": 146,
   "metadata": {},
   "outputs": [],
   "source": [
    "# Combine all 4 dataframes\n",
    "df = pd.concat([etf_df, nvda_df, forex_df, index_df], ignore_index=True)"
   ]
  },
  {
   "cell_type": "markdown",
   "metadata": {},
   "source": [
    "We'll check our data to make sure it looks good-"
   ]
  },
  {
   "cell_type": "code",
   "execution_count": 147,
   "metadata": {},
   "outputs": [
    {
     "data": {
      "text/html": [
       "<div>\n",
       "<style scoped>\n",
       "    .dataframe tbody tr th:only-of-type {\n",
       "        vertical-align: middle;\n",
       "    }\n",
       "\n",
       "    .dataframe tbody tr th {\n",
       "        vertical-align: top;\n",
       "    }\n",
       "\n",
       "    .dataframe thead th {\n",
       "        text-align: right;\n",
       "    }\n",
       "</style>\n",
       "<table border=\"1\" class=\"dataframe\">\n",
       "  <thead>\n",
       "    <tr style=\"text-align: right;\">\n",
       "      <th></th>\n",
       "      <th>Symbol</th>\n",
       "      <th>Open Price ($)</th>\n",
       "      <th>Close Price ($)</th>\n",
       "      <th>Highest Price ($)</th>\n",
       "      <th>Lowest Price ($)</th>\n",
       "      <th>Date</th>\n",
       "    </tr>\n",
       "  </thead>\n",
       "  <tbody>\n",
       "    <tr>\n",
       "      <th>0</th>\n",
       "      <td>WGMI</td>\n",
       "      <td>4.64</td>\n",
       "      <td>4.5588</td>\n",
       "      <td>4.6400</td>\n",
       "      <td>4.42</td>\n",
       "      <td>2023-01-03</td>\n",
       "    </tr>\n",
       "    <tr>\n",
       "      <th>1</th>\n",
       "      <td>WGMI</td>\n",
       "      <td>4.71</td>\n",
       "      <td>5.0974</td>\n",
       "      <td>5.1400</td>\n",
       "      <td>4.71</td>\n",
       "      <td>2023-01-04</td>\n",
       "    </tr>\n",
       "    <tr>\n",
       "      <th>2</th>\n",
       "      <td>WGMI</td>\n",
       "      <td>5.16</td>\n",
       "      <td>5.2400</td>\n",
       "      <td>5.2600</td>\n",
       "      <td>5.00</td>\n",
       "      <td>2023-01-05</td>\n",
       "    </tr>\n",
       "    <tr>\n",
       "      <th>3</th>\n",
       "      <td>WGMI</td>\n",
       "      <td>5.24</td>\n",
       "      <td>5.2100</td>\n",
       "      <td>5.2700</td>\n",
       "      <td>5.10</td>\n",
       "      <td>2023-01-06</td>\n",
       "    </tr>\n",
       "    <tr>\n",
       "      <th>4</th>\n",
       "      <td>WGMI</td>\n",
       "      <td>5.50</td>\n",
       "      <td>5.8500</td>\n",
       "      <td>6.0999</td>\n",
       "      <td>5.50</td>\n",
       "      <td>2023-01-09</td>\n",
       "    </tr>\n",
       "  </tbody>\n",
       "</table>\n",
       "</div>"
      ],
      "text/plain": [
       "  Symbol  Open Price ($)  Close Price ($)  Highest Price ($)  \\\n",
       "0   WGMI            4.64           4.5588             4.6400   \n",
       "1   WGMI            4.71           5.0974             5.1400   \n",
       "2   WGMI            5.16           5.2400             5.2600   \n",
       "3   WGMI            5.24           5.2100             5.2700   \n",
       "4   WGMI            5.50           5.8500             6.0999   \n",
       "\n",
       "   Lowest Price ($)        Date  \n",
       "0              4.42  2023-01-03  \n",
       "1              4.71  2023-01-04  \n",
       "2              5.00  2023-01-05  \n",
       "3              5.10  2023-01-06  \n",
       "4              5.50  2023-01-09  "
      ]
     },
     "execution_count": 147,
     "metadata": {},
     "output_type": "execute_result"
    }
   ],
   "source": [
    "df.head()"
   ]
  },
  {
   "cell_type": "code",
   "execution_count": 148,
   "metadata": {},
   "outputs": [
    {
     "data": {
      "text/html": [
       "<div>\n",
       "<style scoped>\n",
       "    .dataframe tbody tr th:only-of-type {\n",
       "        vertical-align: middle;\n",
       "    }\n",
       "\n",
       "    .dataframe tbody tr th {\n",
       "        vertical-align: top;\n",
       "    }\n",
       "\n",
       "    .dataframe thead th {\n",
       "        text-align: right;\n",
       "    }\n",
       "</style>\n",
       "<table border=\"1\" class=\"dataframe\">\n",
       "  <thead>\n",
       "    <tr style=\"text-align: right;\">\n",
       "      <th></th>\n",
       "      <th>Symbol</th>\n",
       "      <th>Open Price ($)</th>\n",
       "      <th>Close Price ($)</th>\n",
       "      <th>Highest Price ($)</th>\n",
       "      <th>Lowest Price ($)</th>\n",
       "      <th>Date</th>\n",
       "    </tr>\n",
       "  </thead>\n",
       "  <tbody>\n",
       "    <tr>\n",
       "      <th>381</th>\n",
       "      <td>NVDA</td>\n",
       "      <td>14.851</td>\n",
       "      <td>14.315</td>\n",
       "      <td>14.996</td>\n",
       "      <td>14.096</td>\n",
       "      <td>2023-01-03</td>\n",
       "    </tr>\n",
       "    <tr>\n",
       "      <th>382</th>\n",
       "      <td>NVDA</td>\n",
       "      <td>14.567</td>\n",
       "      <td>14.749</td>\n",
       "      <td>14.853</td>\n",
       "      <td>14.241</td>\n",
       "      <td>2023-01-04</td>\n",
       "    </tr>\n",
       "    <tr>\n",
       "      <th>383</th>\n",
       "      <td>NVDA</td>\n",
       "      <td>14.491</td>\n",
       "      <td>14.265</td>\n",
       "      <td>14.564</td>\n",
       "      <td>14.148</td>\n",
       "      <td>2023-01-05</td>\n",
       "    </tr>\n",
       "    <tr>\n",
       "      <th>384</th>\n",
       "      <td>NVDA</td>\n",
       "      <td>14.474</td>\n",
       "      <td>14.859</td>\n",
       "      <td>15.010</td>\n",
       "      <td>14.034</td>\n",
       "      <td>2023-01-06</td>\n",
       "    </tr>\n",
       "    <tr>\n",
       "      <th>385</th>\n",
       "      <td>NVDA</td>\n",
       "      <td>15.284</td>\n",
       "      <td>15.628</td>\n",
       "      <td>16.056</td>\n",
       "      <td>15.141</td>\n",
       "      <td>2023-01-09</td>\n",
       "    </tr>\n",
       "  </tbody>\n",
       "</table>\n",
       "</div>"
      ],
      "text/plain": [
       "    Symbol  Open Price ($)  Close Price ($)  Highest Price ($)  \\\n",
       "381   NVDA          14.851           14.315             14.996   \n",
       "382   NVDA          14.567           14.749             14.853   \n",
       "383   NVDA          14.491           14.265             14.564   \n",
       "384   NVDA          14.474           14.859             15.010   \n",
       "385   NVDA          15.284           15.628             16.056   \n",
       "\n",
       "     Lowest Price ($)        Date  \n",
       "381            14.096  2023-01-03  \n",
       "382            14.241  2023-01-04  \n",
       "383            14.148  2023-01-05  \n",
       "384            14.034  2023-01-06  \n",
       "385            15.141  2023-01-09  "
      ]
     },
     "execution_count": 148,
     "metadata": {},
     "output_type": "execute_result"
    }
   ],
   "source": [
    "df[381:386]"
   ]
  },
  {
   "cell_type": "code",
   "execution_count": 149,
   "metadata": {},
   "outputs": [
    {
     "data": {
      "text/html": [
       "<div>\n",
       "<style scoped>\n",
       "    .dataframe tbody tr th:only-of-type {\n",
       "        vertical-align: middle;\n",
       "    }\n",
       "\n",
       "    .dataframe tbody tr th {\n",
       "        vertical-align: top;\n",
       "    }\n",
       "\n",
       "    .dataframe thead th {\n",
       "        text-align: right;\n",
       "    }\n",
       "</style>\n",
       "<table border=\"1\" class=\"dataframe\">\n",
       "  <thead>\n",
       "    <tr style=\"text-align: right;\">\n",
       "      <th></th>\n",
       "      <th>Symbol</th>\n",
       "      <th>Open Price ($)</th>\n",
       "      <th>Close Price ($)</th>\n",
       "      <th>Highest Price ($)</th>\n",
       "      <th>Lowest Price ($)</th>\n",
       "      <th>Date</th>\n",
       "    </tr>\n",
       "  </thead>\n",
       "  <tbody>\n",
       "    <tr>\n",
       "      <th>787</th>\n",
       "      <td>C:EURUSD</td>\n",
       "      <td>1.09206</td>\n",
       "      <td>1.08920</td>\n",
       "      <td>1.09296</td>\n",
       "      <td>1.08500</td>\n",
       "      <td>2023-01-26</td>\n",
       "    </tr>\n",
       "    <tr>\n",
       "      <th>788</th>\n",
       "      <td>C:EURUSD</td>\n",
       "      <td>1.08931</td>\n",
       "      <td>1.08700</td>\n",
       "      <td>1.09001</td>\n",
       "      <td>1.08370</td>\n",
       "      <td>2023-01-27</td>\n",
       "    </tr>\n",
       "    <tr>\n",
       "      <th>789</th>\n",
       "      <td>C:EURUSD</td>\n",
       "      <td>1.08720</td>\n",
       "      <td>1.08710</td>\n",
       "      <td>1.08720</td>\n",
       "      <td>1.08710</td>\n",
       "      <td>2023-01-28</td>\n",
       "    </tr>\n",
       "    <tr>\n",
       "      <th>790</th>\n",
       "      <td>C:EURUSD</td>\n",
       "      <td>1.08620</td>\n",
       "      <td>1.08715</td>\n",
       "      <td>1.08725</td>\n",
       "      <td>1.08616</td>\n",
       "      <td>2023-01-29</td>\n",
       "    </tr>\n",
       "    <tr>\n",
       "      <th>791</th>\n",
       "      <td>C:EURUSD</td>\n",
       "      <td>1.08716</td>\n",
       "      <td>1.08490</td>\n",
       "      <td>1.09140</td>\n",
       "      <td>1.08380</td>\n",
       "      <td>2023-01-30</td>\n",
       "    </tr>\n",
       "  </tbody>\n",
       "</table>\n",
       "</div>"
      ],
      "text/plain": [
       "       Symbol  Open Price ($)  Close Price ($)  Highest Price ($)  \\\n",
       "787  C:EURUSD         1.09206          1.08920            1.09296   \n",
       "788  C:EURUSD         1.08931          1.08700            1.09001   \n",
       "789  C:EURUSD         1.08720          1.08710            1.08720   \n",
       "790  C:EURUSD         1.08620          1.08715            1.08725   \n",
       "791  C:EURUSD         1.08716          1.08490            1.09140   \n",
       "\n",
       "     Lowest Price ($)        Date  \n",
       "787           1.08500  2023-01-26  \n",
       "788           1.08370  2023-01-27  \n",
       "789           1.08710  2023-01-28  \n",
       "790           1.08616  2023-01-29  \n",
       "791           1.08380  2023-01-30  "
      ]
     },
     "execution_count": 149,
     "metadata": {},
     "output_type": "execute_result"
    }
   ],
   "source": [
    "df[787:792]"
   ]
  },
  {
   "cell_type": "code",
   "execution_count": 150,
   "metadata": {},
   "outputs": [
    {
     "data": {
      "text/html": [
       "<div>\n",
       "<style scoped>\n",
       "    .dataframe tbody tr th:only-of-type {\n",
       "        vertical-align: middle;\n",
       "    }\n",
       "\n",
       "    .dataframe tbody tr th {\n",
       "        vertical-align: top;\n",
       "    }\n",
       "\n",
       "    .dataframe thead th {\n",
       "        text-align: right;\n",
       "    }\n",
       "</style>\n",
       "<table border=\"1\" class=\"dataframe\">\n",
       "  <thead>\n",
       "    <tr style=\"text-align: right;\">\n",
       "      <th></th>\n",
       "      <th>Symbol</th>\n",
       "      <th>Open Price ($)</th>\n",
       "      <th>Close Price ($)</th>\n",
       "      <th>Highest Price ($)</th>\n",
       "      <th>Lowest Price ($)</th>\n",
       "      <th>Date</th>\n",
       "    </tr>\n",
       "  </thead>\n",
       "  <tbody>\n",
       "    <tr>\n",
       "      <th>1606</th>\n",
       "      <td>NDX</td>\n",
       "      <td>19995.279063</td>\n",
       "      <td>20186.633459</td>\n",
       "      <td>20186.633459</td>\n",
       "      <td>19995.279063</td>\n",
       "      <td>2024-07-03</td>\n",
       "    </tr>\n",
       "    <tr>\n",
       "      <th>1607</th>\n",
       "      <td>NDX</td>\n",
       "      <td>20224.130200</td>\n",
       "      <td>20391.966101</td>\n",
       "      <td>20406.994986</td>\n",
       "      <td>20201.500774</td>\n",
       "      <td>2024-07-05</td>\n",
       "    </tr>\n",
       "    <tr>\n",
       "      <th>1608</th>\n",
       "      <td>NDX</td>\n",
       "      <td>20393.887458</td>\n",
       "      <td>20439.541727</td>\n",
       "      <td>20455.380769</td>\n",
       "      <td>20363.370614</td>\n",
       "      <td>2024-07-08</td>\n",
       "    </tr>\n",
       "    <tr>\n",
       "      <th>1609</th>\n",
       "      <td>NDX</td>\n",
       "      <td>20504.173451</td>\n",
       "      <td>20453.024024</td>\n",
       "      <td>20543.902898</td>\n",
       "      <td>20395.572412</td>\n",
       "      <td>2024-07-09</td>\n",
       "    </tr>\n",
       "    <tr>\n",
       "      <th>1610</th>\n",
       "      <td>NDX</td>\n",
       "      <td>20533.270853</td>\n",
       "      <td>20675.378624</td>\n",
       "      <td>20690.966399</td>\n",
       "      <td>20479.942609</td>\n",
       "      <td>2024-07-10</td>\n",
       "    </tr>\n",
       "  </tbody>\n",
       "</table>\n",
       "</div>"
      ],
      "text/plain": [
       "     Symbol  Open Price ($)  Close Price ($)  Highest Price ($)  \\\n",
       "1606    NDX    19995.279063     20186.633459       20186.633459   \n",
       "1607    NDX    20224.130200     20391.966101       20406.994986   \n",
       "1608    NDX    20393.887458     20439.541727       20455.380769   \n",
       "1609    NDX    20504.173451     20453.024024       20543.902898   \n",
       "1610    NDX    20533.270853     20675.378624       20690.966399   \n",
       "\n",
       "      Lowest Price ($)        Date  \n",
       "1606      19995.279063  2024-07-03  \n",
       "1607      20201.500774  2024-07-05  \n",
       "1608      20363.370614  2024-07-08  \n",
       "1609      20395.572412  2024-07-09  \n",
       "1610      20479.942609  2024-07-10  "
      ]
     },
     "execution_count": 150,
     "metadata": {},
     "output_type": "execute_result"
    }
   ],
   "source": [
    "df.tail()"
   ]
  },
  {
   "cell_type": "markdown",
   "metadata": {},
   "source": [
    "Everything looks good- it's ready to be aggregated in SQL."
   ]
  },
  {
   "cell_type": "markdown",
   "metadata": {},
   "source": [
    "# Step 3: Export and Load into SQL (Load)"
   ]
  },
  {
   "cell_type": "code",
   "execution_count": 151,
   "metadata": {},
   "outputs": [],
   "source": [
    "# Export to a CSV file\n",
    "df.to_csv('stockdata.csv', index=False)"
   ]
  }
 ],
 "metadata": {
  "kernelspec": {
   "display_name": ".venv",
   "language": "python",
   "name": "python3"
  },
  "language_info": {
   "codemirror_mode": {
    "name": "ipython",
    "version": 3
   },
   "file_extension": ".py",
   "mimetype": "text/x-python",
   "name": "python",
   "nbconvert_exporter": "python",
   "pygments_lexer": "ipython3",
   "version": "3.12.4"
  }
 },
 "nbformat": 4,
 "nbformat_minor": 2
}

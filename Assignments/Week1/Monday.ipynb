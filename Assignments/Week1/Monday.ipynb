{
 "cells": [
  {
   "cell_type": "markdown",
   "metadata": {},
   "source": [
    "# Exercise 1: Working with Dates & Times"
   ]
  },
  {
   "cell_type": "code",
   "execution_count": 2,
   "metadata": {},
   "outputs": [
    {
     "name": "stdout",
     "output_type": "stream",
     "text": [
      "Current date: 2024-06-21\n",
      "My birthday is in 13 days!\n"
     ]
    }
   ],
   "source": [
    "import datetime\n",
    "\n",
    "now = datetime.datetime.now()\n",
    "print(f\"Current date: {now.strftime(\"%Y-%m-%d\")}\")\n",
    "\n",
    "birthday = datetime.datetime.strptime(\"2024-07-05\", \"%Y-%m-%d\")\n",
    "print(f\"My birthday is in {(birthday-now).days} days!\")"
   ]
  },
  {
   "cell_type": "markdown",
   "metadata": {},
   "source": [
    "# Exercise 2: Dictionaries and Sets"
   ]
  },
  {
   "cell_type": "code",
   "execution_count": 3,
   "metadata": {},
   "outputs": [
    {
     "name": "stdout",
     "output_type": "stream",
     "text": [
      "Students and their grades: {'Riley': 'A', 'Quinn': 'B+', 'Justin': 'F', 'Bobby': 'C-'}\n",
      "Students and their classes: {'Riley': {'classes': ['CPS451', 'CPS500']}, 'Quinn': {'classes': ['CPS450', 'CPS300']}, 'Justin': {'classes': ['CPS100', 'HST101']}, 'Bobby': {'classes': ['CPS251', 'CPS999']}}\n",
      "Set of names: {'Riley', 'Quinn', 'Bobby', 'Justin'}\n"
     ]
    }
   ],
   "source": [
    "students = { \n",
    "    \"Riley\": 'A',\n",
    "    \"Quinn\": 'B+',\n",
    "    \"Justin\": 'F'\n",
    "}\n",
    "\n",
    "students[\"Bobby\"] = 'C-'\n",
    "\n",
    "print(f\"Students and their grades: {students}\")\n",
    "\n",
    "# Using Update method\n",
    "# Could also redeclare the students dict\n",
    "students.update({\n",
    "    \"Riley\": {\n",
    "        \"classes\": [\"CPS451\", \"CPS500\"]\n",
    "    }\n",
    "})\n",
    "\n",
    "students.update({\n",
    "    \"Quinn\": {\n",
    "        \"classes\": [\"CPS450\", \"CPS300\"]\n",
    "    }\n",
    "})\n",
    "\n",
    "students.update({\n",
    "    \"Justin\": {\n",
    "        \"classes\": [\"CPS100\", \"HST101\"]\n",
    "    }\n",
    "})\n",
    "\n",
    "students.update({\n",
    "    \"Bobby\": {\n",
    "        \"classes\": [\"CPS251\", \"CPS999\"]\n",
    "    }\n",
    "})\n",
    "\n",
    "print(f\"Students and their classes: {students}\")\n",
    "\n",
    "set = {name for name in students.keys()}\n",
    "print(f\"Set of names: {set}\")"
   ]
  },
  {
   "cell_type": "markdown",
   "metadata": {},
   "source": [
    "# Exercise 3: Advanced String Operations"
   ]
  },
  {
   "cell_type": "code",
   "execution_count": 4,
   "metadata": {},
   "outputs": [
    {
     "name": "stdout",
     "output_type": "stream",
     "text": [
      "String split into list of words: ['Wowzers', \"that's\", 'a', 'lot', 'of', 'words!', 'Wowzers', 'I', 'can', 'talk', 'a', 'lot!']\n",
      "String split by pipes: Wowzers|that's|a|lot|of|words!|Wowzers|I|can|talk|a|lot!\n",
      "Number of pipes: 11\n"
     ]
    }
   ],
   "source": [
    "string1 = \"Wowzers that's a lot of words! Wowzers I can talk a lot!\"\n",
    "string_list = string1.split()\n",
    "print(f\"String split into list of words: {string_list}\")\n",
    "\n",
    "pipe_string = \"|\".join(string_list)\n",
    "print(f\"String split by pipes: {pipe_string}\")\n",
    "\n",
    "print(f\"Number of pipes: {pipe_string.count(\"|\")}\")"
   ]
  },
  {
   "cell_type": "markdown",
   "metadata": {},
   "source": [
    "# Exercise 4: Lists and Basic Operations"
   ]
  },
  {
   "cell_type": "code",
   "execution_count": 5,
   "metadata": {},
   "outputs": [
    {
     "name": "stdout",
     "output_type": "stream",
     "text": [
      "List Original [1, 2, 3, 4, 5]\n",
      "List Appended [1, 2, 3, 4, 5, -15]\n",
      "List Removed [1, 2, 4, 5, -15]\n",
      "List Sorted [-15, 1, 2, 4, 5]\n"
     ]
    }
   ],
   "source": [
    "list = [1,2,3,4,5]\n",
    "print(f\"List Original {list}\")\n",
    "list.append(-15)\n",
    "print(f\"List Appended {list}\")\n",
    "list.remove(3)\n",
    "print(f\"List Removed {list}\")\n",
    "list.sort()\n",
    "print(f\"List Sorted {list}\")"
   ]
  },
  {
   "cell_type": "markdown",
   "metadata": {},
   "source": [
    "# Challenge 1: List Comprehensions and Filtering"
   ]
  },
  {
   "cell_type": "code",
   "execution_count": 7,
   "metadata": {},
   "outputs": [
    {
     "name": "stdout",
     "output_type": "stream",
     "text": [
      "Squares 1 to 10: [1, 4, 9, 16, 25, 36, 49, 64, 81, 100]\n"
     ]
    },
    {
     "ename": "TypeError",
     "evalue": "'list' object is not callable",
     "output_type": "error",
     "traceback": [
      "\u001b[1;31m---------------------------------------------------------------------------\u001b[0m",
      "\u001b[1;31mTypeError\u001b[0m                                 Traceback (most recent call last)",
      "Cell \u001b[1;32mIn[7], line 6\u001b[0m\n\u001b[0;32m      2\u001b[0m \u001b[38;5;28mprint\u001b[39m(\u001b[38;5;124mf\u001b[39m\u001b[38;5;124m\"\u001b[39m\u001b[38;5;124mSquares 1 to 10: \u001b[39m\u001b[38;5;132;01m{\u001b[39;00msquares\u001b[38;5;132;01m}\u001b[39;00m\u001b[38;5;124m\"\u001b[39m)\n\u001b[0;32m      4\u001b[0m \u001b[38;5;66;03m# For some reason this line only works on the first run, and then python\u001b[39;00m\n\u001b[0;32m      5\u001b[0m \u001b[38;5;66;03m# forgets what list() means... Rebooting VSCode lets it run one more time\u001b[39;00m\n\u001b[1;32m----> 6\u001b[0m squares_even \u001b[38;5;241m=\u001b[39m \u001b[38;5;28;43mlist\u001b[39;49m\u001b[43m(\u001b[49m\u001b[38;5;28;43mfilter\u001b[39;49m\u001b[43m(\u001b[49m\u001b[38;5;28;43;01mlambda\u001b[39;49;00m\u001b[43m \u001b[49m\u001b[43mx\u001b[49m\u001b[43m:\u001b[49m\u001b[43m \u001b[49m\u001b[43m(\u001b[49m\u001b[43mx\u001b[49m\u001b[38;5;241;43m%\u001b[39;49m\u001b[38;5;241;43m2\u001b[39;49m\u001b[38;5;241;43m==\u001b[39;49m\u001b[38;5;241;43m0\u001b[39;49m\u001b[43m)\u001b[49m\u001b[43m,\u001b[49m\u001b[43m \u001b[49m\u001b[43msquares\u001b[49m\u001b[43m)\u001b[49m\u001b[43m)\u001b[49m\n\u001b[0;32m      7\u001b[0m squares_odd \u001b[38;5;241m=\u001b[39m \u001b[38;5;28mlist\u001b[39m(\u001b[38;5;28mfilter\u001b[39m(\u001b[38;5;28;01mlambda\u001b[39;00m x: (x\u001b[38;5;241m%\u001b[39m\u001b[38;5;241m2\u001b[39m\u001b[38;5;241m!=\u001b[39m\u001b[38;5;241m0\u001b[39m), squares))\n\u001b[0;32m      9\u001b[0m \u001b[38;5;28mprint\u001b[39m(\u001b[38;5;124mf\u001b[39m\u001b[38;5;124m\"\u001b[39m\u001b[38;5;124mEven only: \u001b[39m\u001b[38;5;132;01m{\u001b[39;00msquares_even\u001b[38;5;132;01m}\u001b[39;00m\u001b[38;5;124m\"\u001b[39m)\n",
      "\u001b[1;31mTypeError\u001b[0m: 'list' object is not callable"
     ]
    }
   ],
   "source": [
    "squares = [num**2 for num in range(1,11)]\n",
    "print(f\"Squares 1 to 10: {squares}\")\n",
    "\n",
    "# For some reason this line only works on the first run, and then python\n",
    "# forgets what list() means... Rebooting VSCode lets it run one more time\n",
    "# before it breaks.\n",
    "squares_even = list(filter(lambda x: (x%2==0), squares))\n",
    "squares_odd = list(filter(lambda x: (x%2!=0), squares))\n",
    "\n",
    "print(f\"Even only: {squares_even}\")\n",
    "print(f\"Odd only: {squares_odd}\")\n",
    "\n",
    "dict = {squares_odd[i]:squares_even[i] for i in range(len(squares_odd))}\n",
    "print(f\"Dictionary of combined lists: {dict}\")"
   ]
  },
  {
   "cell_type": "markdown",
   "metadata": {},
   "source": [
    "# Challenge 2: Complex Date and Time Operations"
   ]
  },
  {
   "cell_type": "code",
   "execution_count": null,
   "metadata": {},
   "outputs": [
    {
     "name": "stdout",
     "output_type": "stream",
     "text": [
      "261 weekdays in between 06-17-24 and 06-17-25\n",
      "All meetings between 06-17-24 and 06-17-25:\n",
      "01-04-24\n",
      "02-03-24\n",
      "03-04-24\n",
      "04-03-24\n",
      "05-03-24\n",
      "06-02-24\n",
      "07-02-24\n",
      "08-01-24\n",
      "08-31-24\n",
      "09-30-24\n",
      "10-30-24\n",
      "11-29-24\n",
      "12-29-24\n",
      "01-28-25\n",
      "02-27-25\n",
      "03-29-25\n",
      "04-28-25\n",
      "05-28-25\n",
      "\n"
     ]
    }
   ],
   "source": [
    "from datetime import datetime, timedelta\n",
    "\n",
    "# Could have looped through but I wanted to do MATH >:) efficient\n",
    "# Returns the number of weekdays from the earlier date (inclusive) to the end date (exclusive)\n",
    "def weekdays_between(date1, date2):\n",
    "    # Get the start and end dates from the input\n",
    "    start_date = min(date1,date2)\n",
    "    end_date = max(date1,date2)\n",
    "\n",
    "    # Number of days between the dates\n",
    "    days = (end_date - start_date).days\n",
    "    # Number of weeks between the dates (rounded down)\n",
    "    weeks = int((end_date-start_date).days / 7)\n",
    "    # Remainder of the number of weeks\n",
    "    days_remainder = days % 7\n",
    "    \n",
    "    # Calculates the number of weekdays in a the given number of weeks (excluding remainder)\n",
    "    weekdays = days - (weeks * 2)\n",
    "\n",
    "    # Uses the starting day's weekday number and the remainder to remove additional weekends \n",
    "    start_day = int(start_date.strftime(\"%w\"))\n",
    "    additional_weekends = 0\n",
    "    if(start_day + days_remainder > 6):\n",
    "        additional_weekends += 1\n",
    "    \n",
    "    weekdays -= additional_weekends\n",
    "\n",
    "    return weekdays\n",
    "\n",
    "# Meeting must occur sometime after start date\n",
    "def meeting_occurences(start_date, end_date, meeting, interval):\n",
    "    days = end_date - start_date\n",
    "    interval = timedelta(days=interval)\n",
    "    #days_until = meeting - start_date\n",
    "\n",
    "    meetings = []\n",
    "    while end_date > meeting:\n",
    "        meetings.append(meeting.strftime(\"%m-%d-%y\"))\n",
    "        meeting += interval\n",
    "\n",
    "    return meetings\n",
    "\n",
    "date1 = datetime.strptime(\"2024-06-17\", \"%Y-%m-%d\")\n",
    "date2 = datetime.strptime(\"2025-06-17\", \"%Y-%m-%d\")\n",
    "\n",
    "print(f\"{weekdays_between(date1, date2)} weekdays in between {date1.strftime(\"%m-%d-%y\")} and {date2.strftime(\"%m-%d-%y\")}\")\n",
    "\n",
    "meeting = datetime.strptime(\"2024-01-4\", \"%Y-%m-%d\")\n",
    "\n",
    "print(f\"All meetings between {date1.strftime(\"%m-%d-%y\")} and {date2.strftime(\"%m-%d-%y\")}:\\n{\"\\n\".join(meeting_occurences(date1, date2, meeting, 30))}\")"
   ]
  },
  {
   "cell_type": "markdown",
   "metadata": {},
   "source": [
    "# Challenge 3: Nested Collections and Data Aggregation"
   ]
  },
  {
   "cell_type": "code",
   "execution_count": 8,
   "metadata": {},
   "outputs": [
    {
     "name": "stdout",
     "output_type": "stream",
     "text": [
      "Average GPA is 3.125\n",
      "Student with the highest GPA is Riley with 4.0\n"
     ]
    }
   ],
   "source": [
    "students = [{ \n",
    "    \"name\": \"Riley\",\n",
    "    \"gpa\": 4.0\n",
    "},\n",
    "{ \n",
    "    \"name\": \"Quinn\",\n",
    "    \"gpa\": 3.6\n",
    "},\n",
    "{ \n",
    "    \"name\": \"Justin\",\n",
    "    \"gpa\": 1.9\n",
    "},\n",
    "{ \n",
    "    \"name\": \"Bob\",\n",
    "    \"gpa\": 3.0\n",
    "}]\n",
    "\n",
    "total = 0.0\n",
    "for st in students:\n",
    "    total += st[\"gpa\"]\n",
    "\n",
    "average = total/len(students)\n",
    "print(f\"Average GPA is {average}\")\n",
    "\n",
    "max = 0.0\n",
    "maxname = \"\"\n",
    "for st in students:\n",
    "    if st[\"gpa\"] > max:\n",
    "        max = st[\"gpa\"]\n",
    "        maxname = st[\"name\"]\n",
    "\n",
    "print(f\"Student with the highest GPA is {maxname} with {max}\")"
   ]
  }
 ],
 "metadata": {
  "kernelspec": {
   "display_name": "Python 3",
   "language": "python",
   "name": "python3"
  },
  "language_info": {
   "codemirror_mode": {
    "name": "ipython",
    "version": 3
   },
   "file_extension": ".py",
   "mimetype": "text/x-python",
   "name": "python",
   "nbconvert_exporter": "python",
   "pygments_lexer": "ipython3",
   "version": "3.12.4"
  }
 },
 "nbformat": 4,
 "nbformat_minor": 2
}

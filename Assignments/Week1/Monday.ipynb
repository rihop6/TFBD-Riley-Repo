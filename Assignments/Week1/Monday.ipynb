{
 "cells": [
  {
   "cell_type": "markdown",
   "metadata": {},
   "source": [
    "# Exercise 1"
   ]
  },
  {
   "cell_type": "code",
   "execution_count": 11,
   "metadata": {},
   "outputs": [
    {
     "name": "stdout",
     "output_type": "stream",
     "text": [
      "Current date: 2024-06-17\n",
      "My birthday is in 17 days!\n"
     ]
    }
   ],
   "source": [
    "import datetime\n",
    "\n",
    "now = datetime.datetime.now()\n",
    "print(f\"Current date: {now.strftime(\"%Y-%m-%d\")}\")\n",
    "\n",
    "birthday = datetime.datetime.strptime(\"2024-07-05\", \"%Y-%m-%d\")\n",
    "print(f\"My birthday is in {(birthday-now).days} days!\")"
   ]
  },
  {
   "cell_type": "markdown",
   "metadata": {},
   "source": [
    "# Exercise 2"
   ]
  },
  {
   "cell_type": "code",
   "execution_count": 16,
   "metadata": {},
   "outputs": [
    {
     "name": "stdout",
     "output_type": "stream",
     "text": [
      "Students and their grades: {'Riley': 'A', 'Quinn': 'B+', 'Justin': 'F', 'Bobby': 'C-'}\n",
      "Students and their grades: {'Riley': {'classes': ['CPS451', 'CPS500']}, 'Quinn': {'classes': ['CPS450', 'CPS300']}, 'Justin': {'classes': ['CPS100', 'HST101']}, 'Bobby': {'classes': ['CPS251', 'CPS999']}}\n",
      "Set of names: {'Quinn', 'Bobby', 'Riley', 'Justin'}\n"
     ]
    }
   ],
   "source": [
    "students = { \n",
    "    \"Riley\": 'A',\n",
    "    \"Quinn\": 'B+',\n",
    "    \"Justin\": 'F'\n",
    "}\n",
    "\n",
    "students[\"Bobby\"] = 'C-'\n",
    "\n",
    "print(f\"Students and their grades: {students}\")\n",
    "\n",
    "# Using Update method\n",
    "# Could also redeclare the students dict\n",
    "students.update({\n",
    "    \"Riley\": {\n",
    "        \"classes\": [\"CPS451\", \"CPS500\"]\n",
    "    }\n",
    "})\n",
    "\n",
    "students.update({\n",
    "    \"Quinn\": {\n",
    "        \"classes\": [\"CPS450\", \"CPS300\"]\n",
    "    }\n",
    "})\n",
    "\n",
    "students.update({\n",
    "    \"Justin\": {\n",
    "        \"classes\": [\"CPS100\", \"HST101\"]\n",
    "    }\n",
    "})\n",
    "\n",
    "students.update({\n",
    "    \"Bobby\": {\n",
    "        \"classes\": [\"CPS251\", \"CPS999\"]\n",
    "    }\n",
    "})\n",
    "\n",
    "print(f\"Students and their grades: {students}\")\n",
    "\n",
    "set = {name for name in students.keys()}\n",
    "print(f\"Set of names: {set}\")"
   ]
  },
  {
   "cell_type": "markdown",
   "metadata": {},
   "source": [
    "# Exercise 3"
   ]
  },
  {
   "cell_type": "code",
   "execution_count": 7,
   "metadata": {},
   "outputs": [
    {
     "name": "stdout",
     "output_type": "stream",
     "text": [
      "String split into list of words: ['Wowzers', \"that's\", 'a', 'lot', 'of', 'words!', 'Wowzers', 'I', 'can', 'talk', 'a', 'lot!']\n",
      "String split by pipes: Wowzers|that's|a|lot|of|words!|Wowzers|I|can|talk|a|lot!\n",
      "Number of pipes: 11\n"
     ]
    }
   ],
   "source": [
    "string1 = \"Wowzers that's a lot of words! Wowzers I can talk a lot!\"\n",
    "string_list = string1.split()\n",
    "print(f\"String split into list of words: {string_list}\")\n",
    "\n",
    "pipe_string = \"|\".join(string_list)\n",
    "print(f\"String split by pipes: {pipe_string}\")\n",
    "\n",
    "print(f\"Number of pipes: {pipe_string.count(\"|\")}\")"
   ]
  },
  {
   "cell_type": "markdown",
   "metadata": {},
   "source": [
    "# Exercise 4:"
   ]
  },
  {
   "cell_type": "code",
   "execution_count": 11,
   "metadata": {},
   "outputs": [
    {
     "name": "stdout",
     "output_type": "stream",
     "text": [
      "List Original [1, 2, 3, 4, 5]\n",
      "List Appended [1, 2, 3, 4, 5, -15]\n",
      "List Removed [1, 2, 4, 5, -15]\n",
      "List Sorted [-15, 1, 2, 4, 5]\n"
     ]
    }
   ],
   "source": [
    "list = [1,2,3,4,5]\n",
    "print(f\"List Original {list}\")\n",
    "list.append(-15)\n",
    "print(f\"List Appended {list}\")\n",
    "list.remove(3)\n",
    "print(f\"List Removed {list}\")\n",
    "list.sort()\n",
    "print(f\"List Sorted {list}\")"
   ]
  },
  {
   "cell_type": "markdown",
   "metadata": {},
   "source": [
    "# Challenge 1"
   ]
  },
  {
   "cell_type": "code",
   "execution_count": 32,
   "metadata": {},
   "outputs": [
    {
     "name": "stdout",
     "output_type": "stream",
     "text": [
      "Squares 1 to 10: [1, 4, 9, 16, 25, 36, 49, 64, 81, 100]\n",
      "Even only: [4, 16, 36, 64, 100]\n",
      "Odd only: [1, 9, 25, 49, 81]\n",
      "{1: 4, 4: 16, 9: 36, 16: 64, 25: 100}\n"
     ]
    }
   ],
   "source": [
    "squares = [num**2 for num in range(1,11)]\n",
    "print(f\"Squares 1 to 10: {squares}\")\n",
    "\n",
    "squares_even = []\n",
    "squares_odd = []\n",
    "for i in squares:\n",
    "    if(i%2 == 0):\n",
    "        squares_even.append(i)\n",
    "    else:\n",
    "        squares_odd.append(i)\n",
    "print(f\"Even only: {squares_even}\")\n",
    "print(f\"Odd only: {squares_odd}\")\n",
    "\n",
    "dict = {squares_odd[i]:squares_even[i] for i in range(len(squares_odd))}\n",
    "print(f\"Dictionary of combined lists: {dict}\")"
   ]
  },
  {
   "cell_type": "markdown",
   "metadata": {},
   "source": [
    "# Challenge 2"
   ]
  },
  {
   "cell_type": "code",
   "execution_count": 2,
   "metadata": {},
   "outputs": [
    {
     "name": "stdout",
     "output_type": "stream",
     "text": [
      "261\n"
     ]
    }
   ],
   "source": [
    "import datetime\n",
    "\n",
    "# Chat GPT told me to loop through but I wanted to do MATH >:) efficient\n",
    "# Returns the number of weekdays from the earlier date (inclusive) to the end date (exclusive)\n",
    "def weekdays_between(date1, date2):\n",
    "    # Get the start and end dates from the input\n",
    "    start_date = min(date1,date2)\n",
    "    end_date = max(date1,date2)\n",
    "\n",
    "    # Number of days between the dates\n",
    "    days = (end_date - start_date).days\n",
    "    # Number of weeks between the dates (rounded down)\n",
    "    weeks = int((end_date-start_date).days / 7)\n",
    "    # Remainder of the number of weeks\n",
    "    days_remainder = days % 7\n",
    "    \n",
    "    # Calculates the number of weekdays in a the given number of weeks (excluding remainder)\n",
    "    weekdays = days - (weeks * 2)\n",
    "\n",
    "    # Uses the starting day's weekday number and the remainder to remove additional weekends \n",
    "    start_day = int(start_date.strftime(\"%w\"))\n",
    "    additional_weekends = 0\n",
    "    if(start_day + days_remainder > 6):\n",
    "        additional_weekends += 1\n",
    "    \n",
    "    weekdays -= additional_weekends\n",
    "\n",
    "    return weekdays\n",
    "\n",
    "# Meeting must occur sometime after start date\n",
    "# WIP\n",
    "def occurences(start_date, end_date, meeting, interval):\n",
    "    days = end_date - start_date\n",
    "    days_until = meeting - start_date\n",
    "\n",
    "    meetings = []\n",
    "    while days_until < days:\n",
    "        print()\n",
    "    return 0\n",
    "\n",
    "date1 = datetime.datetime.strptime(\"2024-06-17\", \"%Y-%m-%d\")\n",
    "date2 = datetime.datetime.strptime(\"2025-06-17\", \"%Y-%m-%d\")\n",
    "\n",
    "print(weekdays_between(date1, date2))"
   ]
  }
 ],
 "metadata": {
  "kernelspec": {
   "display_name": "Python 3",
   "language": "python",
   "name": "python3"
  },
  "language_info": {
   "codemirror_mode": {
    "name": "ipython",
    "version": 3
   },
   "file_extension": ".py",
   "mimetype": "text/x-python",
   "name": "python",
   "nbconvert_exporter": "python",
   "pygments_lexer": "ipython3",
   "version": "3.12.4"
  }
 },
 "nbformat": 4,
 "nbformat_minor": 2
}

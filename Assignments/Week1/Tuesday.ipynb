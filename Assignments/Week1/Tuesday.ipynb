{
 "cells": [
  {
   "cell_type": "markdown",
   "metadata": {},
   "source": [
    "# Exercise 1: String Validator"
   ]
  },
  {
   "cell_type": "code",
   "execution_count": 1,
   "metadata": {},
   "outputs": [
    {
     "name": "stdout",
     "output_type": "stream",
     "text": [
      "True\n",
      "True\n",
      "True\n",
      "True\n",
      "True\n"
     ]
    }
   ],
   "source": [
    "import re\n",
    "\n",
    "def validate(string):\n",
    "    print(not re.search(r\"\\w\", string) == None)\n",
    "    print(not re.search(r\"[a-zA-Z]\", string) == None)\n",
    "    print(not re.search(r\"\\d\", string) == None)\n",
    "    print(not re.search(r\"[a-z]\", string) == None)\n",
    "    print(not re.search(r\"[A-Z]\", string) == None)\n",
    "\n",
    "validate(\"a1B\")"
   ]
  },
  {
   "cell_type": "markdown",
   "metadata": {},
   "source": [
    "# Exercise 2: Regular Expressions"
   ]
  },
  {
   "cell_type": "code",
   "execution_count": 2,
   "metadata": {},
   "outputs": [
    {
     "name": "stdout",
     "output_type": "stream",
     "text": [
      "<re.Match object; span=(0, 3), match='Wow'>\n",
      "[' 1', ' 4', ' 7', '\\n2']\n",
      "['infomercial!', 'ants?', 'it;', 'inspected.', 'found.', 'parrot.']\n",
      "['123', '222']\n",
      "['r', 't', 'l', 'r']\n"
     ]
    }
   ],
   "source": [
    "string = \"\"\"Wow an infomercial! got ants? call the ant inspector now\n",
    "at 123 456 7890. you won't regret it; your ants will be inspected. error\n",
    "222 ants not found. letter, filler, skill, parrot.\"\"\"\n",
    "print(re.search(r\"^[a-zA-Z]+\", string))\n",
    "print(re.findall(r\"\\s\\d\", string))\n",
    "print(re.findall(r\"[a-zA-Z]+[!?.;:]+\", string))\n",
    "print(re.findall(r\"[1-3]+\", string))\n",
    "# Couldn't get this one working :(\n",
    "print(re.findall(r\"[a-zA-Z]+([a-zA-Z])\\1[a-zA-Z]+\\b\", string))"
   ]
  },
  {
   "cell_type": "markdown",
   "metadata": {},
   "source": [
    "# Expression 3: Word Count"
   ]
  },
  {
   "cell_type": "code",
   "execution_count": 3,
   "metadata": {},
   "outputs": [
    {
     "name": "stdout",
     "output_type": "stream",
     "text": [
      "Word count: 124467\n"
     ]
    }
   ],
   "source": [
    "file_path = \"..\\\\..\\\\Lecture Code (my notes)\\\\Assets\\\\Pride_and_Prejudice.txt\"\n",
    "\n",
    "# Starts at \"Chapter\" in Chapter 1\n",
    "with open(file = file_path, mode = 'rt', encoding = 'utf-8') as f:\n",
    "    f.seek(1972)\n",
    "    book = f.read()\n",
    "    print(f\"Word count: {len(book.split())}\")"
   ]
  },
  {
   "cell_type": "markdown",
   "metadata": {},
   "source": [
    "# Expression 4: Word Score"
   ]
  },
  {
   "cell_type": "code",
   "execution_count": 117,
   "metadata": {},
   "outputs": [
    {
     "name": "stdout",
     "output_type": "stream",
     "text": [
      "The score is: 6\n"
     ]
    }
   ],
   "source": [
    "def word_score(*words: list):\n",
    "    score = 0\n",
    "    for w in words:\n",
    "        vowels = re.findall(r\"[aeiouy]\", w)\n",
    "        if(len(vowels)%2==0):\n",
    "            score += 2\n",
    "        else:\n",
    "            score += 1\n",
    "    return score\n",
    "\n",
    "print(f\"The score is: {word_score(\"this\", \"adds\", \"up\", \"to\", \"six\", \"lol\")}\")"
   ]
  }
 ],
 "metadata": {
  "kernelspec": {
   "display_name": "Python 3",
   "language": "python",
   "name": "python3"
  },
  "language_info": {
   "codemirror_mode": {
    "name": "ipython",
    "version": 3
   },
   "file_extension": ".py",
   "mimetype": "text/x-python",
   "name": "python",
   "nbconvert_exporter": "python",
   "pygments_lexer": "ipython3",
   "version": "3.12.4"
  }
 },
 "nbformat": 4,
 "nbformat_minor": 2
}

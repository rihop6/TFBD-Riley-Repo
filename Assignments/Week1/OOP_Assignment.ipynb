{
 "cells": [
  {
   "cell_type": "markdown",
   "metadata": {},
   "source": [
    "### 1. Basic Computer Components"
   ]
  },
  {
   "cell_type": "code",
   "execution_count": 62,
   "metadata": {},
   "outputs": [],
   "source": [
    "class ComputerComponent:\n",
    "    def __init__(self, manufacturer:str=\"\", model:str=\"\", serial_number:int=0):\n",
    "        self.manufacturer = manufacturer\n",
    "        self.model = model\n",
    "        self.serial_number = serial_number\n",
    "\n",
    "    def __str__(self):\n",
    "        return f\"Manufacturer: {self.manufacturer}\\nModel: {self.model}\\nSerial #: {self.serial_number}\""
   ]
  },
  {
   "cell_type": "markdown",
   "metadata": {},
   "source": [
    "### 2. Specific Component Classes"
   ]
  },
  {
   "cell_type": "code",
   "execution_count": 63,
   "metadata": {},
   "outputs": [],
   "source": [
    "class CPU(ComputerComponent):\n",
    "    def __init__(self, manufacturer:str=\"\", model:str=\"\", serial_number:int=0, cores:int=1, clock_speed:str=\"4GHz\"):\n",
    "        super().__init__(manufacturer, model, serial_number)\n",
    "        self.cores = cores\n",
    "        self.clock_speed = clock_speed\n",
    "    \n",
    "    def __str__(self):\n",
    "        return f\"{super().__str__()}\\nCores: {self.cores}\\nClock Speed: {self.clock_speed}\"\n",
    "\n",
    "class Memory(ComputerComponent):\n",
    "    def __init__(self, manufacturer:str=\"\", model:str=\"\", serial_number:int=0, capacity:str=\"4GB\"):\n",
    "        super().__init__(manufacturer, model, serial_number)\n",
    "        self.capacity = capacity\n",
    "    \n",
    "    def __str__(self):\n",
    "        return f\"{super().__str__()}\\nCapacity: {self.capacity}\"\n",
    "\n",
    "class Storage(ComputerComponent):\n",
    "    def __init__(self, manufacturer:str=\"\", model:str=\"\", serial_number:int=0, storage_type:str=\"SSD\", size:str=\"512GB\"):\n",
    "        super().__init__(manufacturer, model, serial_number)\n",
    "        self.storage_type = storage_type\n",
    "        self.size = size\n",
    "    \n",
    "    def __str__(self):\n",
    "        return f\"{super().__str__()}\\nStorage Type: {self.storage_type}\\nSize: {self.size}\""
   ]
  },
  {
   "cell_type": "markdown",
   "metadata": {},
   "source": [
    "### 3. Computer Class"
   ]
  },
  {
   "cell_type": "code",
   "execution_count": 64,
   "metadata": {},
   "outputs": [],
   "source": [
    "class Computer():\n",
    "    def __init__(self, cpu, memory, storage):\n",
    "        if(not isinstance(cpu, ComputerComponent)):\n",
    "            cpu = CPU()\n",
    "        \n",
    "        if(not isinstance(memory, ComputerComponent)):\n",
    "            memory = Memory()\n",
    "        \n",
    "        if(not isinstance(storage, ComputerComponent)):\n",
    "            storage = Storage()\n",
    "        \n",
    "        self.cpu = cpu\n",
    "        self.memory = memory\n",
    "        self.storage = storage\n",
    "\n",
    "    def replaceComponent(self, component):\n",
    "        if(isinstance(component, CPU)):\n",
    "            self.cpu = component\n",
    "            return True\n",
    "        elif(isinstance(component, Memory)):\n",
    "            self.memory = component\n",
    "            return True\n",
    "        elif(isinstance(component, Storage)):\n",
    "            self.storage = component\n",
    "            return True\n",
    "        else:\n",
    "            return False\n",
    "\n",
    "\n",
    "    def __str__(self):\n",
    "        return f\"System Information:\\nCPU:\\n{self.cpu}\\n\\nMEMORY:\\n{self.memory}\\n\\nSTORAGE:\\n{self.storage}\""
   ]
  },
  {
   "cell_type": "code",
   "execution_count": 65,
   "metadata": {},
   "outputs": [
    {
     "name": "stdout",
     "output_type": "stream",
     "text": [
      "System Information:\n",
      "CPU:\n",
      "Manufacturer: Intel\n",
      "Model: i5\n",
      "Serial #: 123\n",
      "Cores: 4\n",
      "Clock Speed: 5.6\n",
      "\n",
      "MEMORY:\n",
      "Manufacturer: Intel\n",
      "Model: RAM 2000\n",
      "Serial #: 456\n",
      "Capacity: 16GB\n",
      "\n",
      "STORAGE:\n",
      "Manufacturer: Intel\n",
      "Model: RAM 2000\n",
      "Serial #: 789\n",
      "Storage Type: SSD\n",
      "Size: 1TB\n"
     ]
    }
   ],
   "source": [
    "pc = Computer(CPU(\"Intel\", \"i5\", 123, 4, 5.6), Memory(\"Intel\", \"RAM 2000\", 456, \"16GB\"), Storage(\"Intel\", \"RAM 2000\", 789, \"SSD\", \"1TB\"))\n",
    "print(pc)"
   ]
  },
  {
   "cell_type": "markdown",
   "metadata": {},
   "source": [
    "### 4. Advanced Features"
   ]
  },
  {
   "cell_type": "code",
   "execution_count": 66,
   "metadata": {},
   "outputs": [
    {
     "name": "stdout",
     "output_type": "stream",
     "text": [
      "System Information:\n",
      "CPU:\n",
      "Manufacturer: \n",
      "Model: \n",
      "Serial #: 0\n",
      "Cores: 1\n",
      "Clock Speed: 4GHz\n",
      "\n",
      "MEMORY:\n",
      "Manufacturer: Intel\n",
      "Model: RAM 2000\n",
      "Serial #: 456\n",
      "Capacity: 16GB\n",
      "\n",
      "STORAGE:\n",
      "Manufacturer: Intel\n",
      "Model: RAM 2000\n",
      "Serial #: 789\n",
      "Storage Type: SSD\n",
      "Size: 1TB\n"
     ]
    }
   ],
   "source": [
    "# Test error checking in computer\n",
    "pc2 = Computer(cpu=\"BAD INPUT\",memory=Memory(\"Intel\", \"RAM 2000\", 456, \"16GB\"), storage=Storage(\"Intel\", \"RAM 2000\", 789, \"SSD\", \"1TB\"))\n",
    "print(pc2)"
   ]
  },
  {
   "cell_type": "code",
   "execution_count": 67,
   "metadata": {},
   "outputs": [
    {
     "name": "stdout",
     "output_type": "stream",
     "text": [
      "Component installation successful\n",
      "System Information:\n",
      "CPU:\n",
      "Manufacturer: Intel\n",
      "Model: i5\n",
      "Serial #: 123\n",
      "Cores: 4\n",
      "Clock Speed: 5.6\n",
      "\n",
      "MEMORY:\n",
      "Manufacturer: Intel\n",
      "Model: RAM 2000\n",
      "Serial #: 456\n",
      "Capacity: 16GB\n",
      "\n",
      "STORAGE:\n",
      "Manufacturer: Intel\n",
      "Model: RAM 2000\n",
      "Serial #: 789\n",
      "Storage Type: SSD\n",
      "Size: 1TB\n"
     ]
    }
   ],
   "source": [
    "# Check component replacing\n",
    "if(pc2.replaceComponent(CPU(\"Intel\", \"i5\", 123, 4, 5.6))):\n",
    "   print(\"Component installation successful\")\n",
    "   print(pc2)\n",
    "else:\n",
    "    print(\"Component installation failed\")\n",
    "    print(pc2)"
   ]
  }
 ],
 "metadata": {
  "kernelspec": {
   "display_name": ".venv",
   "language": "python",
   "name": "python3"
  },
  "language_info": {
   "codemirror_mode": {
    "name": "ipython",
    "version": 3
   },
   "file_extension": ".py",
   "mimetype": "text/x-python",
   "name": "python",
   "nbconvert_exporter": "python",
   "pygments_lexer": "ipython3",
   "version": "3.12.4"
  }
 },
 "nbformat": 4,
 "nbformat_minor": 2
}

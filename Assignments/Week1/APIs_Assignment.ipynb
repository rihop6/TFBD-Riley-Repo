{
 "cells": [
  {
   "cell_type": "markdown",
   "metadata": {},
   "source": [
    "### No Auth API: meowfacts\n",
    "meowfacts github:\n",
    "https://github.com/wh-iterabb-it/meowfacts\n"
   ]
  },
  {
   "cell_type": "code",
   "execution_count": 20,
   "metadata": {},
   "outputs": [
    {
     "name": "stdout",
     "output_type": "stream",
     "text": [
      "Cat fact of the day:\n",
      "Your cat recognizes your voice but just acts too cool to care (probably because they are).\n"
     ]
    }
   ],
   "source": [
    "import requests\n",
    "import json\n",
    "import os\n",
    "\n",
    "base_url = \"https://meowfacts.herokuapp.com/\"\n",
    "\n",
    "response = requests.get(base_url)\n",
    "data = response.json()\n",
    "print(f\"Cat fact of the day:\\n{data[\"data\"][0]}\")"
   ]
  },
  {
   "cell_type": "markdown",
   "metadata": {},
   "source": [
    "### API Keys\n",
    "Riot Games API:\n",
    "https://developer.riotgames.com\n"
   ]
  },
  {
   "cell_type": "code",
   "execution_count": 28,
   "metadata": {},
   "outputs": [
    {
     "name": "stdout",
     "output_type": "stream",
     "text": [
      "My champion mastery with Yuumi is: 34\n"
     ]
    }
   ],
   "source": [
    "import requests\n",
    "import json\n",
    "import os\n",
    "from dotenv import load_dotenv\n",
    "load_dotenv()\n",
    "\n",
    "puuid = os.environ['lol_puuid']\n",
    "api_key = os.environ['lol_api_key']\n",
    "full_url = f\"https://na1.api.riotgames.com/lol/champion-mastery/v4/champion-masteries/by-puuid/{puuid}/by-champion/350?api_key={api_key}\"\n",
    "\n",
    "response = requests.get(base_url)\n",
    "data = response.json()\n",
    "print(f\"My champion mastery with Yuumi is: {data[\"championLevel\"]}\")"
   ]
  },
  {
   "cell_type": "markdown",
   "metadata": {},
   "source": [
    "OAuth\n",
    "\n",
    "Google Books API: https://developers.google.com/books/docs/v1/using#AboutAuthorization"
   ]
  },
  {
   "cell_type": "code",
   "execution_count": null,
   "metadata": {},
   "outputs": [],
   "source": []
  }
 ],
 "metadata": {
  "kernelspec": {
   "display_name": ".venv",
   "language": "python",
   "name": "python3"
  },
  "language_info": {
   "codemirror_mode": {
    "name": "ipython",
    "version": 3
   },
   "file_extension": ".py",
   "mimetype": "text/x-python",
   "name": "python",
   "nbconvert_exporter": "python",
   "pygments_lexer": "ipython3",
   "version": "3.12.4"
  }
 },
 "nbformat": 4,
 "nbformat_minor": 2
}

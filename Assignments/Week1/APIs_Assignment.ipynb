{
 "cells": [
  {
   "cell_type": "markdown",
   "metadata": {},
   "source": [
    "### No Auth API: meowfacts\n",
    "meowfacts github:\n",
    "https://github.com/wh-iterabb-it/meowfacts\n"
   ]
  },
  {
   "cell_type": "code",
   "execution_count": 36,
   "metadata": {},
   "outputs": [
    {
     "name": "stdout",
     "output_type": "stream",
     "text": [
      "Cat fact of the day:\n",
      "Not every cat gets 'high' from catnip. Whether or not a cat responds to it depends upon a recessive gene: no gene, no joy.\n"
     ]
    }
   ],
   "source": [
    "import requests\n",
    "import json\n",
    "import os\n",
    "\n",
    "base_url = \"https://meowfacts.herokuapp.com/\"\n",
    "\n",
    "response = requests.get(base_url)\n",
    "catdata = response.json()\n",
    "print(f\"Cat fact of the day:\\n{catdata[\"data\"][0]}\")"
   ]
  },
  {
   "cell_type": "markdown",
   "metadata": {},
   "source": [
    "### API Keys\n",
    "Riot Games API:\n",
    "https://developer.riotgames.com\n"
   ]
  },
  {
   "cell_type": "code",
   "execution_count": 2,
   "metadata": {},
   "outputs": [
    {
     "name": "stdout",
     "output_type": "stream",
     "text": [
      "My champion mastery with Yuumi is: 34\n"
     ]
    }
   ],
   "source": [
    "import requests\n",
    "import json\n",
    "import os\n",
    "from dotenv import load_dotenv\n",
    "load_dotenv()\n",
    "\n",
    "puuid = os.environ['lol_puuid']\n",
    "lol_key = os.environ['lol_api_key']\n",
    "\n",
    "full_url = f\"https://na1.api.riotgames.com/lol/champion-mastery/v4/champion-masteries/by-puuid/{puuid}/by-champion/350?api_key={lol_key}\"\n",
    "response = requests.get(full_url)\n",
    "data = response.json()\n",
    "print(f\"My champion mastery with Yuumi is: {data[\"championLevel\"]}\")"
   ]
  },
  {
   "cell_type": "markdown",
   "metadata": {},
   "source": [
    "OAuth\n",
    "\n",
    "Google Books API: https://api.thenounproject.com/index.html"
   ]
  },
  {
   "cell_type": "code",
   "execution_count": 38,
   "metadata": {},
   "outputs": [
    {
     "name": "stdout",
     "output_type": "stream",
     "text": [
      "b'{\\n  \"monthly\": {\\n    \"limit\": 5000,\\n    \"usage\": 4\\n  }\\n}'\n"
     ]
    }
   ],
   "source": [
    "import requests\n",
    "from requests_oauthlib import OAuth1 as auth\n",
    "\n",
    "\n",
    "key = os.environ['nouns_key']\n",
    "secret = os.environ['nouns_secret']\n",
    "\n",
    "oauth = auth(key, secret)\n",
    "endpoint = \"https://api.thenounproject.com/v2/client/usage\"\n",
    "\n",
    "response = requests.get(endpoint, auth=oauth)\n",
    "print(response.content)"
   ]
  }
 ],
 "metadata": {
  "kernelspec": {
   "display_name": ".venv",
   "language": "python",
   "name": "python3"
  },
  "language_info": {
   "codemirror_mode": {
    "name": "ipython",
    "version": 3
   },
   "file_extension": ".py",
   "mimetype": "text/x-python",
   "name": "python",
   "nbconvert_exporter": "python",
   "pygments_lexer": "ipython3",
   "version": "3.12.4"
  }
 },
 "nbformat": 4,
 "nbformat_minor": 2
}
